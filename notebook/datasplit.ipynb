{
 "cells": [
  {
   "cell_type": "code",
   "execution_count": 26,
   "metadata": {},
   "outputs": [],
   "source": [
    "import numpy as np\n",
    "import pandas as pd"
   ]
  },
  {
   "cell_type": "code",
   "execution_count": null,
   "metadata": {},
   "outputs": [],
   "source": [
    "data_dir = '/data/dli-data' # '../data'"
   ]
  },
  {
   "cell_type": "code",
   "execution_count": 28,
   "metadata": {},
   "outputs": [],
   "source": [
    "data = pd.read_pickle(f'{data_dir}/sdd/raw/df_varfs.pkl')"
   ]
  },
  {
   "cell_type": "code",
   "execution_count": 29,
   "metadata": {},
   "outputs": [],
   "source": [
    "import seaborn as sns\n",
    "import matplotlib.pyplot as plt\n",
    "%matplotlib inline"
   ]
  },
  {
   "cell_type": "markdown",
   "metadata": {},
   "source": [
    "by scene"
   ]
  },
  {
   "cell_type": "code",
   "execution_count": null,
   "metadata": {},
   "outputs": [],
   "source": []
  },
  {
   "cell_type": "code",
   "execution_count": null,
   "metadata": {},
   "outputs": [],
   "source": []
  },
  {
   "cell_type": "code",
   "execution_count": 32,
   "metadata": {},
   "outputs": [
    {
     "data": {
      "text/html": [
       "<div>\n",
       "<style scoped>\n",
       "    .dataframe tbody tr th:only-of-type {\n",
       "        vertical-align: middle;\n",
       "    }\n",
       "\n",
       "    .dataframe tbody tr th {\n",
       "        vertical-align: top;\n",
       "    }\n",
       "\n",
       "    .dataframe thead th {\n",
       "        text-align: right;\n",
       "    }\n",
       "</style>\n",
       "<table border=\"1\" class=\"dataframe\">\n",
       "  <thead>\n",
       "    <tr style=\"text-align: right;\">\n",
       "      <th></th>\n",
       "      <th>metaId</th>\n",
       "      <th>label</th>\n",
       "      <th>sceneId</th>\n",
       "      <th>scene</th>\n",
       "      <th>avg_vel</th>\n",
       "      <th>max_vel</th>\n",
       "      <th>avg_acc</th>\n",
       "      <th>max_acc</th>\n",
       "      <th>min_acc</th>\n",
       "      <th>abs+avg_acc</th>\n",
       "      <th>...</th>\n",
       "      <th>min_acc_com</th>\n",
       "      <th>abs+avg_acc_com</th>\n",
       "      <th>abs+max_acc_com</th>\n",
       "      <th>min_dist_com</th>\n",
       "      <th>avg_den100_com</th>\n",
       "      <th>tot_den100_com</th>\n",
       "      <th>avg_den50_com</th>\n",
       "      <th>tot_den50_com</th>\n",
       "      <th>avg_den10_com</th>\n",
       "      <th>tot_den10_com</th>\n",
       "    </tr>\n",
       "  </thead>\n",
       "  <tbody>\n",
       "    <tr>\n",
       "      <th>0</th>\n",
       "      <td>0</td>\n",
       "      <td>Biker</td>\n",
       "      <td>bookstore_0</td>\n",
       "      <td>bookstore</td>\n",
       "      <td>2.986981</td>\n",
       "      <td>3.064129</td>\n",
       "      <td>-0.001665</td>\n",
       "      <td>0.009037</td>\n",
       "      <td>-0.009037</td>\n",
       "      <td>0.005102</td>\n",
       "      <td>...</td>\n",
       "      <td>-0.076918</td>\n",
       "      <td>0.025966</td>\n",
       "      <td>0.127397</td>\n",
       "      <td>66.319303</td>\n",
       "      <td>0.50</td>\n",
       "      <td>10</td>\n",
       "      <td>0.00</td>\n",
       "      <td>0</td>\n",
       "      <td>0.0</td>\n",
       "      <td>0</td>\n",
       "    </tr>\n",
       "    <tr>\n",
       "      <th>1</th>\n",
       "      <td>1</td>\n",
       "      <td>Biker</td>\n",
       "      <td>bookstore_0</td>\n",
       "      <td>bookstore</td>\n",
       "      <td>3.914014</td>\n",
       "      <td>4.192627</td>\n",
       "      <td>0.000636</td>\n",
       "      <td>0.036924</td>\n",
       "      <td>-0.024498</td>\n",
       "      <td>0.018103</td>\n",
       "      <td>...</td>\n",
       "      <td>-0.084885</td>\n",
       "      <td>0.022929</td>\n",
       "      <td>0.084885</td>\n",
       "      <td>44.553339</td>\n",
       "      <td>0.15</td>\n",
       "      <td>3</td>\n",
       "      <td>0.05</td>\n",
       "      <td>1</td>\n",
       "      <td>0.0</td>\n",
       "      <td>0</td>\n",
       "    </tr>\n",
       "    <tr>\n",
       "      <th>2</th>\n",
       "      <td>2</td>\n",
       "      <td>Pedestrian</td>\n",
       "      <td>bookstore_0</td>\n",
       "      <td>bookstore</td>\n",
       "      <td>0.960907</td>\n",
       "      <td>1.185122</td>\n",
       "      <td>-0.015303</td>\n",
       "      <td>0.014277</td>\n",
       "      <td>-0.071084</td>\n",
       "      <td>0.021017</td>\n",
       "      <td>...</td>\n",
       "      <td>-0.071084</td>\n",
       "      <td>0.011697</td>\n",
       "      <td>0.071084</td>\n",
       "      <td>23.706539</td>\n",
       "      <td>0.20</td>\n",
       "      <td>4</td>\n",
       "      <td>0.10</td>\n",
       "      <td>2</td>\n",
       "      <td>0.0</td>\n",
       "      <td>0</td>\n",
       "    </tr>\n",
       "    <tr>\n",
       "      <th>3</th>\n",
       "      <td>3</td>\n",
       "      <td>Pedestrian</td>\n",
       "      <td>bookstore_0</td>\n",
       "      <td>bookstore</td>\n",
       "      <td>0.198828</td>\n",
       "      <td>0.333333</td>\n",
       "      <td>-0.001157</td>\n",
       "      <td>0.013889</td>\n",
       "      <td>-0.013889</td>\n",
       "      <td>0.009726</td>\n",
       "      <td>...</td>\n",
       "      <td>-0.020833</td>\n",
       "      <td>0.011476</td>\n",
       "      <td>0.023508</td>\n",
       "      <td>18.248288</td>\n",
       "      <td>3.10</td>\n",
       "      <td>62</td>\n",
       "      <td>1.25</td>\n",
       "      <td>25</td>\n",
       "      <td>0.0</td>\n",
       "      <td>0</td>\n",
       "    </tr>\n",
       "    <tr>\n",
       "      <th>4</th>\n",
       "      <td>4</td>\n",
       "      <td>Pedestrian</td>\n",
       "      <td>bookstore_0</td>\n",
       "      <td>bookstore</td>\n",
       "      <td>0.000000</td>\n",
       "      <td>0.000000</td>\n",
       "      <td>0.000000</td>\n",
       "      <td>0.000000</td>\n",
       "      <td>0.000000</td>\n",
       "      <td>0.000000</td>\n",
       "      <td>...</td>\n",
       "      <td>-0.029463</td>\n",
       "      <td>0.005900</td>\n",
       "      <td>0.029463</td>\n",
       "      <td>21.965883</td>\n",
       "      <td>5.15</td>\n",
       "      <td>103</td>\n",
       "      <td>1.20</td>\n",
       "      <td>24</td>\n",
       "      <td>0.0</td>\n",
       "      <td>0</td>\n",
       "    </tr>\n",
       "  </tbody>\n",
       "</table>\n",
       "<p>5 rows × 32 columns</p>\n",
       "</div>"
      ],
      "text/plain": [
       "   metaId       label      sceneId      scene   avg_vel   max_vel   avg_acc  \\\n",
       "0       0       Biker  bookstore_0  bookstore  2.986981  3.064129 -0.001665   \n",
       "1       1       Biker  bookstore_0  bookstore  3.914014  4.192627  0.000636   \n",
       "2       2  Pedestrian  bookstore_0  bookstore  0.960907  1.185122 -0.015303   \n",
       "3       3  Pedestrian  bookstore_0  bookstore  0.198828  0.333333 -0.001157   \n",
       "4       4  Pedestrian  bookstore_0  bookstore  0.000000  0.000000  0.000000   \n",
       "\n",
       "    max_acc   min_acc  abs+avg_acc  ...  min_acc_com  abs+avg_acc_com  \\\n",
       "0  0.009037 -0.009037     0.005102  ...    -0.076918         0.025966   \n",
       "1  0.036924 -0.024498     0.018103  ...    -0.084885         0.022929   \n",
       "2  0.014277 -0.071084     0.021017  ...    -0.071084         0.011697   \n",
       "3  0.013889 -0.013889     0.009726  ...    -0.020833         0.011476   \n",
       "4  0.000000  0.000000     0.000000  ...    -0.029463         0.005900   \n",
       "\n",
       "   abs+max_acc_com  min_dist_com  avg_den100_com  tot_den100_com  \\\n",
       "0         0.127397     66.319303            0.50              10   \n",
       "1         0.084885     44.553339            0.15               3   \n",
       "2         0.071084     23.706539            0.20               4   \n",
       "3         0.023508     18.248288            3.10              62   \n",
       "4         0.029463     21.965883            5.15             103   \n",
       "\n",
       "   avg_den50_com  tot_den50_com  avg_den10_com  tot_den10_com  \n",
       "0           0.00              0            0.0              0  \n",
       "1           0.05              1            0.0              0  \n",
       "2           0.10              2            0.0              0  \n",
       "3           1.25             25            0.0              0  \n",
       "4           1.20             24            0.0              0  \n",
       "\n",
       "[5 rows x 32 columns]"
      ]
     },
     "execution_count": 32,
     "metadata": {},
     "output_type": "execute_result"
    }
   ],
   "source": [
    "data.head()"
   ]
  },
  {
   "cell_type": "code",
   "execution_count": 39,
   "metadata": {},
   "outputs": [],
   "source": [
    "factor = 'avg_vel'\n",
    "scene_id = 'deathCircle_0'\n",
    "d = data[(data.sceneId == scene_id) & ((data.label == 'Biker') | (data.label == 'Car'))]\n",
    "fig, axes = plt.subplots(1, 3, figsize=(10, 3))\n",
    "sns.histplot(d, x=factor, stat='probability', hue='label', binwidth=0.2, ax=axes[0])\n",
    "axes[0].set_title(f'{scene_id}: {d.shape[0]}')\n",
    "sns.histplot(d[(d.label=='Biker')], x=factor, stat='probability', binwidth=0.2, ax=axes[1])\n",
    "axes[1].set_title(f'{scene_id}: {d[(d.label == \"Biker\")].shape[0]} (Biker)')\n",
    "sns.histplot(d[d.label=='Car'], x=factor, stat='probability', binwidth=0.2, ax=axes[2])\n",
    "axes[2].set_title(f'{scene_id}: {d[d.label == \"Car\"].shape[0]} (Car)')\n",
    "plt.savefig(f'../figures/agent_distribution/{factor}/{scene_id}_biker_car.png')\n",
    "plt.close()\n"
   ]
  },
  {
   "cell_type": "code",
   "execution_count": 40,
   "metadata": {},
   "outputs": [],
   "source": [
    "factor = 'avg_vel'\n",
    "scene_id = 'deathCircle_1'\n",
    "d = data[(data.sceneId == scene_id) & ((data.label == 'Biker') | (data.label == 'Car'))]\n",
    "fig, axes = plt.subplots(1, 3, figsize=(10, 3))\n",
    "sns.histplot(d, x=factor, stat='probability', hue='label', binwidth=0.2, ax=axes[0])\n",
    "axes[0].set_title(f'{scene_id}: {d.shape[0]}')\n",
    "sns.histplot(d[(d.label=='Biker')], x=factor, stat='probability', binwidth=0.2, ax=axes[1])\n",
    "axes[1].set_title(f'{scene_id}: {d[(d.label == \"Biker\")].shape[0]} (Biker)')\n",
    "sns.histplot(d[d.label=='Car'], x=factor, stat='probability', binwidth=0.2, ax=axes[2])\n",
    "axes[2].set_title(f'{scene_id}: {d[d.label == \"Car\"].shape[0]} (Car)')\n",
    "plt.savefig(f'../figures/agent_distribution/{factor}/{scene_id}_biker_car.png')\n",
    "plt.close()\n"
   ]
  },
  {
   "cell_type": "code",
   "execution_count": 41,
   "metadata": {},
   "outputs": [],
   "source": [
    "factor = 'avg_vel'\n",
    "scene_id = 'deathCircle_01'\n",
    "d = data[((data.sceneId == 'deathCircle_0') | (data.sceneId == 'deathCircle_1')) & ((data.label == 'Biker') | (data.label == 'Car'))]\n",
    "fig, axes = plt.subplots(1, 3, figsize=(10, 3))\n",
    "sns.histplot(d, x=factor, stat='probability', hue='label', binwidth=0.2, ax=axes[0])\n",
    "axes[0].set_title(f'{scene_id}: {d.shape[0]}')\n",
    "sns.histplot(d[(d.label=='Biker')], x=factor, stat='probability', binwidth=0.2, ax=axes[1])\n",
    "axes[1].set_title(f'{scene_id}: {d[(d.label == \"Biker\")].shape[0]} (Biker)')\n",
    "sns.histplot(d[d.label=='Car'], x=factor, stat='probability', binwidth=0.2, ax=axes[2])\n",
    "axes[2].set_title(f'{scene_id}: {d[d.label == \"Car\"].shape[0]} (Car)')\n",
    "plt.savefig(f'../figures/agent_distribution/{factor}/{scene_id}_biker_car.png')\n",
    "plt.close()\n"
   ]
  },
  {
   "cell_type": "markdown",
   "metadata": {},
   "source": [
    "by agent"
   ]
  },
  {
   "cell_type": "code",
   "execution_count": 25,
   "metadata": {},
   "outputs": [
    {
     "name": "stdout",
     "output_type": "stream",
     "text": [
      "deathCircle_0 Pedestrian (598, 1)\n",
      "deathCircle_0 Biker (666, 1)\n",
      "deathCircle_1 Pedestrian (755, 1)\n",
      "deathCircle_1 Biker (638, 1)\n",
      "deathCircle_2 Pedestrian (14, 1)\n",
      "deathCircle_3 Pedestrian (395, 1)\n",
      "deathCircle_3 Biker (679, 1)\n",
      "deathCircle_4 Biker (18, 1)\n",
      "hyang_0 Pedestrian (594, 1)\n",
      "hyang_0 Biker (239, 1)\n",
      "hyang_1 Pedestrian (422, 1)\n",
      "hyang_1 Biker (72, 1)\n",
      "hyang_10 Pedestrian (209, 1)\n",
      "hyang_10 Biker (23, 1)\n",
      "hyang_11 Pedestrian (342, 1)\n",
      "hyang_11 Biker (17, 1)\n",
      "hyang_12 Pedestrian (91, 1)\n",
      "hyang_12 Biker (35, 1)\n",
      "hyang_13 Pedestrian (59, 1)\n",
      "hyang_14 Pedestrian (70, 1)\n",
      "hyang_2 Pedestrian (496, 1)\n",
      "hyang_2 Biker (134, 1)\n",
      "hyang_3 Pedestrian (402, 1)\n",
      "hyang_3 Biker (70, 1)\n",
      "hyang_4 Pedestrian (988, 1)\n",
      "hyang_4 Biker (330, 1)\n",
      "hyang_5 Pedestrian (380, 1)\n",
      "hyang_5 Biker (66, 1)\n",
      "hyang_6 Pedestrian (311, 1)\n",
      "hyang_6 Biker (39, 1)\n",
      "hyang_7 Pedestrian (42, 1)\n",
      "hyang_8 Pedestrian (11, 1)\n"
     ]
    }
   ],
   "source": [
    "factor = 'avg_vel'\n",
    "for scene_id in data.sceneId.unique():\n",
    "    if 'hyang' in scene_id or 'deathCircle' in scene_id:\n",
    "        for label in ['Pedestrian', 'Biker']:\n",
    "            d = data[(data.sceneId == scene_id) & (data.label == label)][[factor]]\n",
    "            if d.shape[0] > 10:\n",
    "                print(scene_id, label, d.shape)\n",
    "                plt.figure()\n",
    "                sns.histplot(d, x=factor, stat='probability', binwidth=0.2)\n",
    "                plt.title(f'{scene_id}: {d.shape[0]}')\n",
    "                plt.savefig(f'../figures/agent_distribution/{factor}/{label}_{scene_id}.png')\n",
    "                plt.close()"
   ]
  },
  {
   "cell_type": "code",
   "execution_count": 26,
   "metadata": {},
   "outputs": [],
   "source": [
    "factor = 'avg_vel'\n",
    "label = 'Biker'\n",
    "scene_id = 'deathCircle_013'\n",
    "d = data[((data.sceneId == 'deathCircle_0') | (data.sceneId == 'deathCircle_1') | (data.sceneId == 'deathCircle_3')) & (data.label == label)][[factor]]\n",
    "plt.figure()\n",
    "sns.histplot(d, x=factor, stat='probability', binwidth=0.2)\n",
    "plt.title(f'{scene_id}: {d.shape[0]}')\n",
    "plt.savefig(f'../figures/agent_distribution/{factor}/{label}_{scene_id}.png')\n",
    "plt.close()"
   ]
  },
  {
   "cell_type": "code",
   "execution_count": 27,
   "metadata": {},
   "outputs": [],
   "source": [
    "factor = 'avg_vel'\n",
    "label = 'Pedestrian'\n",
    "scene_id = 'deathCircle_013'\n",
    "d = data[((data.sceneId == 'deathCircle_0') | (data.sceneId == 'deathCircle_1') | (data.sceneId == 'deathCircle_3')) & (data.label == label)][[factor]]\n",
    "plt.figure()\n",
    "sns.histplot(d, x=factor, stat='probability', binwidth=0.2)\n",
    "plt.title(f'{scene_id}: {d.shape[0]}')\n",
    "plt.savefig(f'../figures/agent_distribution/{factor}/{label}_{scene_id}.png')\n",
    "plt.close()"
   ]
  },
  {
   "cell_type": "code",
   "execution_count": 28,
   "metadata": {},
   "outputs": [],
   "source": [
    "factor = 'avg_vel'\n",
    "label = 'Biker'\n",
    "scene_id = 'hyang_0145'\n",
    "d = data[((data.sceneId == 'hyang_0') | (data.sceneId == 'hyang_1') | (data.sceneId == 'hyang_4') | (data.sceneId == 'hyang_5')) & (data.label == label)][[factor]]\n",
    "plt.figure()\n",
    "sns.histplot(d, x=factor, stat='probability', binwidth=0.2)\n",
    "plt.title(f'{scene_id}: {d.shape[0]}')\n",
    "plt.savefig(f'../figures/agent_distribution/{factor}/{label}_{scene_id}.png')\n",
    "plt.close()"
   ]
  },
  {
   "cell_type": "code",
   "execution_count": 29,
   "metadata": {},
   "outputs": [],
   "source": [
    "factor = 'avg_vel'\n",
    "label = 'Pedestrian'\n",
    "scene_id = 'hyang_0145'\n",
    "d = data[((data.sceneId == 'hyang_0') | (data.sceneId == 'hyang_1') | (data.sceneId == 'hyang_4') | (data.sceneId == 'hyang_5')) & (data.label == label)][[factor]]\n",
    "plt.figure()\n",
    "sns.histplot(d, x=factor, stat='probability', binwidth=0.2)\n",
    "plt.title(f'{scene_id}: {d.shape[0]}')\n",
    "plt.savefig(f'../figures/agent_distribution/{factor}/{label}_{scene_id}.png')\n",
    "plt.close()"
   ]
  },
  {
   "cell_type": "code",
   "execution_count": 22,
   "metadata": {},
   "outputs": [
    {
     "data": {
      "text/plain": [
       "Index(['metaId', 'label', 'sceneId', 'scene', 'avg_vel', 'max_vel', 'avg_acc',\n",
       "       'max_acc', 'min_acc', 'abs+avg_acc', 'abs+max_acc', 'min_dist',\n",
       "       'avg_den100', 'tot_den100', 'avg_den50', 'tot_den50', 'avg_den10',\n",
       "       'tot_den10', 'avg_vel_com', 'max_vel_com', 'avg_acc_com', 'max_acc_com',\n",
       "       'min_acc_com', 'abs+avg_acc_com', 'abs+max_acc_com', 'min_dist_com',\n",
       "       'avg_den100_com', 'tot_den100_com', 'avg_den50_com', 'tot_den50_com',\n",
       "       'avg_den10_com', 'tot_den10_com'],\n",
       "      dtype='object')"
      ]
     },
     "execution_count": 22,
     "metadata": {},
     "output_type": "execute_result"
    }
   ],
   "source": [
    "data.columns"
   ]
  },
  {
   "cell_type": "markdown",
   "metadata": {},
   "source": [
    "Split groups"
   ]
  },
  {
   "cell_type": "code",
   "execution_count": 30,
   "metadata": {},
   "outputs": [],
   "source": [
    "factor = 'avg_vel'\n",
    "label = 'Biker'\n",
    "scene_id = 'deathCircle_013'\n",
    "data_dc013_biker = data[((data.sceneId == 'deathCircle_0') | (data.sceneId == 'deathCircle_1') | (data.sceneId == 'deathCircle_3')) & (data.label == label)][[factor]]\n"
   ]
  },
  {
   "cell_type": "code",
   "execution_count": 31,
   "metadata": {},
   "outputs": [],
   "source": [
    "factor = 'avg_vel'\n",
    "label = 'Pedestrian'\n",
    "scene_id = 'hyang_0145'\n",
    "data_hyang0145_ped = data[((data.sceneId == 'hyang_0') | (data.sceneId == 'hyang_1') | (data.sceneId == 'hyang_4') | (data.sceneId == 'hyang_5')) & (data.label == label)][[factor]]"
   ]
  },
  {
   "cell_type": "code",
   "execution_count": 48,
   "metadata": {},
   "outputs": [
    {
     "name": "stdout",
     "output_type": "stream",
     "text": [
      "0 < avg_vel < 0.5 \t#=64\n",
      "2 < avg_vel < 3 \t#=606\n",
      "7.5 < avg_vel \t\t#=9\n",
      "0.5 < avg_vel < 2 \t#=282\n",
      "0.5 < avg_vel < 2.25 \t#=388\n",
      "0.5 < avg_vel < 2.5 \t#=544\n",
      "0.5 < avg_vel < 2.75 \t#=710\n",
      "0.5 < avg_vel < 3 \t#=888\n",
      "0.5 < avg_vel < 3.5 \t#=1213\n",
      "0.5 < avg_vel < 4 \t#=1499\n",
      "2 < avg_vel < 7.5 \t#=1596\n",
      "2.25 < avg_vel < 7.5 \t#=1490\n",
      "2.5 < avg_vel < 7.5 \t#=1334\n",
      "2.75 < avg_vel < 7.5 \t#=1168\n",
      "3 < avg_vel < 7.5 \t#=990\n",
      "3.5 < avg_vel < 7.5 \t#=665\n",
      "4 < avg_vel < 7.5 \t#=379\n"
     ]
    }
   ],
   "source": [
    "print(f\"0 < avg_vel < 0.5 \\t#={data_dc013_biker[(data_dc013_biker['avg_vel'] <= 0.5) & (data_dc013_biker['avg_vel'] > 0)].count()[0]}\")\n",
    "print(f\"2 < avg_vel < 3 \\t#={data_dc013_biker[(data_dc013_biker['avg_vel'] <= 3) & (data_dc013_biker['avg_vel'] > 2)].count()[0]}\")\n",
    "print(f\"7.5 < avg_vel \\t\\t#={data_dc013_biker[(data_dc013_biker['avg_vel'] > 7.5)].count()[0]}\")\n",
    "low_bound = 0.5\n",
    "for up_bound in [2, 2.25, 2.5, 2.75, 3, 3.5, 4]:\n",
    "    print(f\"{low_bound} < avg_vel < {up_bound} \\t#={data_dc013_biker[(data_dc013_biker['avg_vel'] < up_bound) & (data_dc013_biker['avg_vel'] > low_bound)].count()[0]}\")\n",
    "up_bound = 7.5\n",
    "for low_bound in [2, 2.25, 2.5, 2.75, 3, 3.5, 4]:\n",
    "    print(f\"{low_bound} < avg_vel < {up_bound} \\t#={data_dc013_biker[(data_dc013_biker['avg_vel'] > low_bound) & (data_dc013_biker['avg_vel'] < up_bound)].count()[0]}\")"
   ]
  },
  {
   "cell_type": "code",
   "execution_count": 49,
   "metadata": {},
   "outputs": [
    {
     "name": "stdout",
     "output_type": "stream",
     "text": [
      "0 < avg_vel < 0.5 \t#=429\n",
      "2 < avg_vel < 3 \t#=26\n",
      "3 < avg_vel \t\t#=14\n",
      "0.5 < avg_vel < 0.75 \t#=305\n",
      "0.5 < avg_vel < 1 \t#=687\n",
      "0.5 < avg_vel < 1.25 \t#=1149\n",
      "0.5 < avg_vel < 1.5 \t#=1563\n",
      "0.5 < avg_vel < 2 \t#=1781\n",
      "0.5 < avg_vel < 2.5 \t#=1800\n",
      "0.5 < avg_vel < 3 \t#=1807\n",
      "0.75 < avg_vel < 3 \t#=1501\n",
      "1 < avg_vel < 3 \t#=1120\n",
      "1.25 < avg_vel < 3 \t#=657\n",
      "1.5 < avg_vel < 3 \t#=243\n",
      "2 < avg_vel < 3 \t#=26\n",
      "2.5 < avg_vel < 3 \t#=7\n",
      "3 < avg_vel < 3 \t#=0\n"
     ]
    }
   ],
   "source": [
    "print(f\"0 < avg_vel < 0.5 \\t#={data_hyang0145_ped[(data_hyang0145_ped['avg_vel'] <= 0.5) & (data_hyang0145_ped['avg_vel'] > 0)].count()[0]}\")\n",
    "print(f\"2 < avg_vel < 3 \\t#={data_hyang0145_ped[(data_hyang0145_ped['avg_vel'] <= 3) & (data_hyang0145_ped['avg_vel'] > 2)].count()[0]}\")\n",
    "print(f\"3 < avg_vel \\t\\t#={data_hyang0145_ped[(data_hyang0145_ped['avg_vel'] > 3)].count()[0]}\")\n",
    "low_bound = 0.5\n",
    "for up_bound in [0.75, 1, 1.25, 1.5, 2, 2.5, 3]:\n",
    "    print(f\"{low_bound} < avg_vel < {up_bound} \\t#={data_hyang0145_ped[(data_hyang0145_ped['avg_vel'] < up_bound) & (data_hyang0145_ped['avg_vel'] > low_bound)].count()[0]}\")\n",
    "up_bound = 3\n",
    "for low_bound in [0.75, 1, 1.25, 1.5, 2, 2.5, 3]:\n",
    "    print(f\"{low_bound} < avg_vel < {up_bound} \\t#={data_hyang0145_ped[(data_hyang0145_ped['avg_vel'] > low_bound) & (data_hyang0145_ped['avg_vel'] < up_bound)].count()[0]}\")"
   ]
  },
  {
   "cell_type": "markdown",
   "metadata": {},
   "source": [
    "### prepare car data"
   ]
  },
  {
   "cell_type": "code",
   "execution_count": 4,
   "metadata": {},
   "outputs": [],
   "source": [
    "car = pd.read_pickle('/data/dli-data/sdd/filter/agent_type/Car.pkl')"
   ]
  },
  {
   "cell_type": "code",
   "execution_count": 12,
   "metadata": {},
   "outputs": [],
   "source": [
    "scene_id = 'deathCircle_3'\n",
    "pd.to_pickle(car[car.sceneId == scene_id], f'/data/dli-data/sdd/filter/agent_type/{scene_id}/Car.pkl')"
   ]
  },
  {
   "cell_type": "code",
   "execution_count": null,
   "metadata": {},
   "outputs": [],
   "source": []
  },
  {
   "cell_type": "markdown",
   "metadata": {},
   "source": [
    "## Merge data "
   ]
  },
  {
   "cell_type": "code",
   "execution_count": 1,
   "metadata": {},
   "outputs": [],
   "source": [
    "import pandas as pd"
   ]
  },
  {
   "cell_type": "code",
   "execution_count": 14,
   "metadata": {},
   "outputs": [],
   "source": [
    "data_dir = '/data/dli-data' # '../data'"
   ]
  },
  {
   "cell_type": "code",
   "execution_count": 16,
   "metadata": {},
   "outputs": [],
   "source": [
    "dc0_biker = pd.read_pickle(f'{data_dir}/sdd/filter/agent_type/deathCircle_0/Biker.pkl')\n",
    "dc1_biker = pd.read_pickle(f'{data_dir}/sdd/filter/agent_type/deathCircle_1/Biker.pkl')\n",
    "dc3_biker = pd.read_pickle(f'{data_dir}/sdd/filter/agent_type/deathCircle_3/Biker.pkl')\n",
    "dc013_biker = pd.concat([dc0_biker, dc1_biker, dc3_biker], axis=0)\n",
    "dc013_biker.to_pickle(f'{data_dir}/sdd/filter/agent_type/deathCircle_013/Biker.pkl')"
   ]
  },
  {
   "cell_type": "code",
   "execution_count": 17,
   "metadata": {},
   "outputs": [],
   "source": [
    "dc0_ped = pd.read_pickle(f'{data_dir}/sdd/filter/agent_type/deathCircle_0/Pedestrian.pkl')\n",
    "dc1_ped = pd.read_pickle(f'{data_dir}/sdd/filter/agent_type/deathCircle_1/Pedestrian.pkl')\n",
    "dc3_ped = pd.read_pickle(f'{data_dir}/sdd/filter/agent_type/deathCircle_3/Pedestrian.pkl')\n",
    "dc013_ped = pd.concat([dc0_ped, dc1_ped, dc3_ped], axis=0)\n",
    "dc013_ped.to_pickle(f'{data_dir}/sdd/filter/agent_type/deathCircle_013/Pedestrian.pkl')"
   ]
  },
  {
   "cell_type": "code",
   "execution_count": 18,
   "metadata": {},
   "outputs": [],
   "source": [
    "dc0_car = pd.read_pickle(f'{data_dir}/sdd/filter/agent_type/deathCircle_0/Car.pkl')\n",
    "dc1_car = pd.read_pickle(f'{data_dir}/sdd/filter/agent_type/deathCircle_1/Car.pkl')\n",
    "dc3_car = pd.read_pickle(f'{data_dir}/sdd/filter/agent_type/deathCircle_3/Car.pkl')\n",
    "dc013_car = pd.concat([dc0_car, dc1_car, dc3_car], axis=0)\n",
    "dc013_car.to_pickle(f'{data_dir}/sdd/filter/agent_type/deathCircle_013/Car.pkl')"
   ]
  },
  {
   "cell_type": "code",
   "execution_count": 8,
   "metadata": {},
   "outputs": [],
   "source": [
    "hyang0_ped = pd.read_pickle('../data/sdd/filter/agent_type/hyang_0/Pedestrian.pkl')\n",
    "hyang1_ped = pd.read_pickle('../data/sdd/filter/agent_type/hyang_1/Pedestrian.pkl')\n",
    "hyang4_ped = pd.read_pickle('../data/sdd/filter/agent_type/hyang_4/Pedestrian.pkl')\n",
    "hyang5_ped = pd.read_pickle('../data/sdd/filter/agent_type/hyang_5/Pedestrian.pkl')\n",
    "hyang0145_ped = pd.concat([hyang0_ped, hyang1_ped, hyang4_ped, hyang5_ped], axis=0)\n",
    "hyang0145_ped.to_pickle('../data/sdd/filter/agent_type/hyang_0145/Pedestrian.pkl')"
   ]
  },
  {
   "cell_type": "code",
   "execution_count": 9,
   "metadata": {},
   "outputs": [],
   "source": [
    "hyang0_biker = pd.read_pickle('../data/sdd/filter/agent_type/hyang_0/Biker.pkl')\n",
    "hyang1_biker = pd.read_pickle('../data/sdd/filter/agent_type/hyang_1/Biker.pkl')\n",
    "hyang4_biker = pd.read_pickle('../data/sdd/filter/agent_type/hyang_4/Biker.pkl')\n",
    "hyang5_biker = pd.read_pickle('../data/sdd/filter/agent_type/hyang_5/Biker.pkl')\n",
    "hyang0145_biker = pd.concat([hyang0_biker, hyang1_biker, hyang4_biker, hyang5_biker], axis=0)\n",
    "hyang0145_biker.to_pickle('../data/sdd/filter/agent_type/hyang_0145/Biker.pkl')"
   ]
  },
  {
   "cell_type": "markdown",
   "metadata": {},
   "source": [
    "## Visualize data "
   ]
  },
  {
   "cell_type": "code",
   "execution_count": 22,
   "metadata": {},
   "outputs": [],
   "source": [
    "image_path = '/data/dli-data/sdd/raw/annotations'"
   ]
  },
  {
   "cell_type": "code",
   "execution_count": 24,
   "metadata": {},
   "outputs": [],
   "source": [
    "import os\n",
    "import cv2\n",
    "import pathlib\n",
    "import matplotlib.pyplot as plt\n",
    "\n",
    "def create_images_dict(unique_scene, image_path, image_file='reference.jpg', use_raw_data=False):\n",
    "    images = {}\n",
    "    for scene in unique_scene:\n",
    "        if image_file == 'oracle.png':\n",
    "            im = cv2.imread(os.path.join(image_path, scene, image_file), 0)\n",
    "        else:\n",
    "            if use_raw_data:\n",
    "                scene_name, scene_idx = scene.split(\"_\")\n",
    "                im_path = os.path.join(\n",
    "                    image_path, scene_name, f\"video{scene_idx}\", image_file)\n",
    "            else:\n",
    "                im_path = os.path.join(image_path, scene, image_file)\n",
    "            im = cv2.imread(im_path)\n",
    "        images[scene] = im\n",
    "    # images channel: blue, green, red \n",
    "    return images\n",
    "    \n",
    "def plot_trajectories_scenes_overlay(image_path, df, agent_list, out_dir='../', format='png'):\n",
    "    unique_scene = df.sceneId.unique()\n",
    "    scene_images = create_images_dict(unique_scene, image_path, 'reference.jpg', True)\n",
    "    colors = {\n",
    "        'Pedestrian': 'blue', 'Biker': 'red', 'Car': 'green', \n",
    "        'Skater': 'orange', 'Bus': 'cyan', 'Cart': 'pink'}\n",
    "    for scene_id in unique_scene:\n",
    "        height, width = scene_images[scene_id].shape[0], scene_images[scene_id].shape[1]\n",
    "        fig = plt.figure(figsize=(height/50, width/50))\n",
    "        plt.imshow(scene_images[scene_id])\n",
    "        ms, lw = 4, 3\n",
    "        for agent in agent_list:\n",
    "            scene_agent = df[(df.sceneId == scene_id) & (df.label == agent)]\n",
    "            for _, traj in scene_agent.groupby('metaId'):\n",
    "                if agent == 'Biker' or agent == 'Pedestrian':\n",
    "                    plt.plot(traj.x, traj.y, '.-', c=colors[agent], ms=ms, linewidth=lw, alpha=0.5)\n",
    "                else:\n",
    "                    plt.plot(traj.x, traj.y, '.-', c=colors[agent], ms=ms, linewidth=lw)\n",
    "            plt.plot(0, 0, '.-', c=colors[agent], alpha=0.5, label=agent)\n",
    "        plt.legend()\n",
    "        pathlib.Path(out_dir).mkdir(parents=True, exist_ok=True)\n",
    "        out_path = os.path.join(out_dir, scene_id + '.' + format)\n",
    "        plt.savefig(out_path, bbox_inches='tight')\n",
    "        plt.close(fig)\n",
    "        print(f'Saved {out_path}')"
   ]
  },
  {
   "cell_type": "code",
   "execution_count": 57,
   "metadata": {},
   "outputs": [],
   "source": [
    "def plot_trajectories_train_adapt(image_path, df_train, df_test, out_dir='../', format='png'):\n",
    "    unique_scene = df_train.sceneId.unique()\n",
    "    scene_images = create_images_dict(unique_scene, image_path, 'reference.jpg', True)\n",
    "    \n",
    "    for scene_id in unique_scene:\n",
    "        height, width = scene_images[scene_id].shape[0], scene_images[scene_id].shape[1]\n",
    "        fig = plt.figure(figsize=(height/50, width/50))\n",
    "        plt.imshow(scene_images[scene_id])\n",
    "        ms, lw = 4, 3\n",
    "\n",
    "        # train\n",
    "        scene_train = df_train[(df_train.sceneId == scene_id)]\n",
    "        for _, traj in scene_train.groupby('metaId'):\n",
    "            plt.plot(traj.x, traj.y, '.-', c='red', ms=ms, linewidth=lw, alpha=0.5)\n",
    "        plt.plot(0, 0, '.-', c='red', alpha=0.5, label='train')\n",
    "        # adapt \n",
    "        scene_adapt = df_test[(df_test.sceneId == scene_id)]\n",
    "        for _, traj in scene_adapt.groupby('metaId'):\n",
    "            plt.plot(traj.x, traj.y, '.-', c='blue', ms=ms, linewidth=lw, alpha=0.5)\n",
    "        plt.plot(0, 0, '.-', c='blue', alpha=0.5, label='adaptation')\n",
    "\n",
    "        plt.legend(fontsize=43)\n",
    "        pathlib.Path(out_dir).mkdir(parents=True, exist_ok=True)\n",
    "        out_path = os.path.join(out_dir, scene_id + '.' + format)\n",
    "        plt.savefig(out_path, bbox_inches='tight')\n",
    "        plt.close(fig)\n",
    "        print(f'Saved {out_path}')"
   ]
  },
  {
   "cell_type": "code",
   "execution_count": 20,
   "metadata": {},
   "outputs": [],
   "source": [
    "dc013 = pd.concat([dc013_biker, dc013_car], axis=0)"
   ]
  },
  {
   "cell_type": "code",
   "execution_count": 25,
   "metadata": {},
   "outputs": [
    {
     "name": "stdout",
     "output_type": "stream",
     "text": [
      "Saved ../figures/deathCircle_0.png\n",
      "Saved ../figures/deathCircle_1.png\n",
      "Saved ../figures/deathCircle_3.png\n"
     ]
    }
   ],
   "source": [
    "plot_trajectories_scenes_overlay(image_path, dc013, ['Biker', 'Car'], out_dir='../figures/')"
   ]
  },
  {
   "cell_type": "code",
   "execution_count": 49,
   "metadata": {},
   "outputs": [
    {
     "name": "stdout",
     "output_type": "stream",
     "text": [
      "Saved ../figures/traj_check/vel_biker/2.75_7.5/deathCircle_0.png\n",
      "Saved ../figures/traj_check/vel_biker/2.75_7.5/deathCircle_1.png\n",
      "Saved ../figures/traj_check/vel_biker/2.75_7.5/deathCircle_3.png\n",
      "Saved ../figures/traj_check/vel_biker/0.5_2.25/deathCircle_0.png\n",
      "Saved ../figures/traj_check/vel_biker/0.5_2.25/deathCircle_1.png\n",
      "Saved ../figures/traj_check/vel_biker/0.5_2.25/deathCircle_3.png\n"
     ]
    }
   ],
   "source": [
    "# high speed to low speed \n",
    "file = '2.75_7.5'\n",
    "df_train = pd.read_pickle(f'{data_dir}/sdd/filter/avg_vel/dc_013/Biker/{file}.pkl')\n",
    "plot_trajectories_scenes_overlay(image_path, df_train, ['Biker'], out_dir=f'../figures/traj_check/vel_biker/{file}/')\n",
    "\n",
    "file = '0.5_2.25'\n",
    "df_adapt = pd.read_pickle(f'{data_dir}/sdd/filter/avg_vel/dc_013/Biker/{file}.pkl')\n",
    "plot_trajectories_scenes_overlay(image_path, df_adapt, ['Biker'], out_dir=f'../figures/traj_check/vel_biker/{file}/')\n",
    "\n",
    "plot_trajectories_train_adapt(image_path, df_train, df_adapt, out_dir=f'../figures/traj_check/vel_biker/high2low/')"
   ]
  },
  {
   "cell_type": "code",
   "execution_count": 59,
   "metadata": {},
   "outputs": [
    {
     "name": "stdout",
     "output_type": "stream",
     "text": [
      "Saved ../figures/traj_check/vel_biker/0.5_3.5/deathCircle_0.png\n",
      "Saved ../figures/traj_check/vel_biker/0.5_3.5/deathCircle_1.png\n",
      "Saved ../figures/traj_check/vel_biker/0.5_3.5/deathCircle_3.png\n",
      "Saved ../figures/traj_check/vel_biker/4_8/deathCircle_0.png\n",
      "Saved ../figures/traj_check/vel_biker/4_8/deathCircle_1.png\n",
      "Saved ../figures/traj_check/vel_biker/4_8/deathCircle_3.png\n",
      "Saved ../figures/traj_check/vel_biker/low2high/deathCircle_0.png\n",
      "Saved ../figures/traj_check/vel_biker/low2high/deathCircle_1.png\n",
      "Saved ../figures/traj_check/vel_biker/low2high/deathCircle_3.png\n"
     ]
    }
   ],
   "source": [
    "# low speed to high speed \n",
    "file = '0.5_3.5'\n",
    "df_train = pd.read_pickle(f'{data_dir}/sdd/filter/avg_vel/dc_013/Biker/{file}.pkl')\n",
    "plot_trajectories_scenes_overlay(image_path, df_train, ['Biker'], out_dir=f'../figures/traj_check/vel_biker/{file}/')\n",
    "\n",
    "file = '4_8'\n",
    "df_adapt = pd.read_pickle(f'{data_dir}/sdd/filter/avg_vel/dc_013/Biker/{file}.pkl')\n",
    "plot_trajectories_scenes_overlay(image_path, df_adapt, ['Biker'], out_dir=f'../figures/traj_check/vel_biker/{file}/')\n",
    "\n",
    "plot_trajectories_train_adapt(image_path, df_train, df_adapt, out_dir=f'../figures/traj_check/vel_biker/low2high/')"
   ]
  },
  {
   "cell_type": "code",
   "execution_count": 60,
   "metadata": {},
   "outputs": [
    {
     "name": "stdout",
     "output_type": "stream",
     "text": [
      "Saved ../figures/traj_check/vel_ped/high2low/hyang_0.png\n",
      "Saved ../figures/traj_check/vel_ped/high2low/hyang_1.png\n",
      "Saved ../figures/traj_check/vel_ped/high2low/hyang_4.png\n",
      "Saved ../figures/traj_check/vel_ped/high2low/hyang_5.png\n"
     ]
    }
   ],
   "source": [
    "# high speed to low speed \n",
    "file = '1_3'\n",
    "df_train = pd.read_pickle(f'{data_dir}/sdd/filter/avg_vel/hyang_0145/Pedestrian/{file}.pkl')\n",
    "# plot_trajectories_scenes_overlay(image_path, df_train, ['Pedestrian'], out_dir=f'../figures/traj_check/vel_ped/{file}/')\n",
    "\n",
    "file = '0.25_0.7'\n",
    "df_adapt = pd.read_pickle(f'{data_dir}/sdd/filter/avg_vel/hyang_0145/Pedestrian/{file}.pkl')\n",
    "# plot_trajectories_scenes_overlay(image_path, df_adapt, ['Pedestrian'], out_dir=f'../figures/traj_check/vel_ped/{file}/')\n",
    "\n",
    "plot_trajectories_train_adapt(image_path, df_train, df_adapt, out_dir=f'../figures/traj_check/vel_ped/high2low/')"
   ]
  },
  {
   "cell_type": "code",
   "execution_count": 61,
   "metadata": {},
   "outputs": [
    {
     "name": "stdout",
     "output_type": "stream",
     "text": [
      "Saved ../figures/traj_check/vel_ped/low2high/hyang_0.png\n",
      "Saved ../figures/traj_check/vel_ped/low2high/hyang_1.png\n",
      "Saved ../figures/traj_check/vel_ped/low2high/hyang_4.png\n",
      "Saved ../figures/traj_check/vel_ped/low2high/hyang_5.png\n"
     ]
    }
   ],
   "source": [
    "# low speed to high speed \n",
    "file = '0.25_1.25'\n",
    "df_train = pd.read_pickle(f'{data_dir}/sdd/filter/avg_vel/hyang_0145/Pedestrian/{file}.pkl')\n",
    "# plot_trajectories_scenes_overlay(image_path, df_train, ['Pedestrian'], out_dir=f'../figures/traj_check/vel_ped/{file}/')\n",
    "\n",
    "file = '1.5_3'\n",
    "df_adapt = pd.read_pickle(f'{data_dir}/sdd/filter/avg_vel/hyang_0145/Pedestrian/{file}.pkl')\n",
    "# plot_trajectories_scenes_overlay(image_path, df_adapt, ['Pedestrian'], out_dir=f'../figures/traj_check/vel_ped/{file}/')\n",
    "\n",
    "plot_trajectories_train_adapt(image_path, df_train, df_adapt, out_dir=f'../figures/traj_check/vel_ped/low2high/')"
   ]
  },
  {
   "cell_type": "code",
   "execution_count": null,
   "metadata": {},
   "outputs": [],
   "source": []
  }
 ],
 "metadata": {
  "interpreter": {
   "hash": "29439c2701c2c99292f4c27f6d5b631364f5a85a3fb1398d59a7605b4a1a4267"
  },
  "kernelspec": {
   "display_name": "Python 3.8.12 ('ynetv')",
   "language": "python",
   "name": "python3"
  },
  "language_info": {
   "codemirror_mode": {
    "name": "ipython",
    "version": 3
   },
   "file_extension": ".py",
   "mimetype": "text/x-python",
   "name": "python",
   "nbconvert_exporter": "python",
   "pygments_lexer": "ipython3",
   "version": "3.8.13"
  },
  "orig_nbformat": 4
 },
 "nbformat": 4,
 "nbformat_minor": 2
}
