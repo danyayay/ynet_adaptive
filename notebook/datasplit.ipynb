{
 "cells": [
  {
   "cell_type": "code",
   "execution_count": 1,
   "metadata": {},
   "outputs": [],
   "source": [
    "import numpy as np\n",
    "import pandas as pd"
   ]
  },
  {
   "cell_type": "code",
   "execution_count": 2,
   "metadata": {},
   "outputs": [],
   "source": [
    "data = pd.read_pickle('../data/sdd/raw/df_varfs.pkl')"
   ]
  },
  {
   "cell_type": "code",
   "execution_count": 4,
   "metadata": {},
   "outputs": [],
   "source": [
    "import seaborn as sns\n",
    "import matplotlib.pyplot as plt\n",
    "%matplotlib inline"
   ]
  },
  {
   "cell_type": "code",
   "execution_count": 25,
   "metadata": {},
   "outputs": [],
   "source": [
    "factor = 'avg_acc'\n",
    "for scene_id in data.sceneId.unique():\n",
    "    d = data[data.sceneId == scene_id][['label', factor]]\n",
    "    if d.shape[0] != 0:\n",
    "        plt.figure()\n",
    "        sns.histplot(d, x=factor, stat='probability', hue='label', binwidth=0.2)\n",
    "        plt.title(scene_id)\n",
    "        plt.savefig(f'../figures/agent_distribution/{factor}/{scene_id}.png')\n",
    "        plt.close()"
   ]
  },
  {
   "cell_type": "code",
   "execution_count": 22,
   "metadata": {},
   "outputs": [
    {
     "data": {
      "text/plain": [
       "Index(['metaId', 'label', 'sceneId', 'scene', 'avg_vel', 'max_vel', 'avg_acc',\n",
       "       'max_acc', 'min_acc', 'abs+avg_acc', 'abs+max_acc', 'min_dist',\n",
       "       'avg_den100', 'tot_den100', 'avg_den50', 'tot_den50', 'avg_den10',\n",
       "       'tot_den10', 'avg_vel_com', 'max_vel_com', 'avg_acc_com', 'max_acc_com',\n",
       "       'min_acc_com', 'abs+avg_acc_com', 'abs+max_acc_com', 'min_dist_com',\n",
       "       'avg_den100_com', 'tot_den100_com', 'avg_den50_com', 'tot_den50_com',\n",
       "       'avg_den10_com', 'tot_den10_com'],\n",
       "      dtype='object')"
      ]
     },
     "execution_count": 22,
     "metadata": {},
     "output_type": "execute_result"
    }
   ],
   "source": [
    "data.columns"
   ]
  },
  {
   "cell_type": "code",
   "execution_count": null,
   "metadata": {},
   "outputs": [],
   "source": []
  }
 ],
 "metadata": {
  "interpreter": {
   "hash": "29439c2701c2c99292f4c27f6d5b631364f5a85a3fb1398d59a7605b4a1a4267"
  },
  "kernelspec": {
   "display_name": "Python 3.8.12 ('ynetv')",
   "language": "python",
   "name": "python3"
  },
  "language_info": {
   "codemirror_mode": {
    "name": "ipython",
    "version": 3
   },
   "file_extension": ".py",
   "mimetype": "text/x-python",
   "name": "python",
   "nbconvert_exporter": "python",
   "pygments_lexer": "ipython3",
   "version": "3.8.12"
  },
  "orig_nbformat": 4
 },
 "nbformat": 4,
 "nbformat_minor": 2
}
