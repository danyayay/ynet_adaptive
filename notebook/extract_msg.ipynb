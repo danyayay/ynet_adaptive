{
 "cells": [
  {
   "cell_type": "code",
   "execution_count": 1,
   "metadata": {},
   "outputs": [],
   "source": [
    "import re\n",
    "import pathlib\n",
    "import pandas as pd"
   ]
  },
  {
   "cell_type": "code",
   "execution_count": 8,
   "metadata": {},
   "outputs": [],
   "source": [
    "def extract_train_msg(test_msg):\n",
    "    msg_split = re.split('save_every_n', test_msg)[1:]\n",
    "    df = pd.DataFrame(columns=['seed', 'pretrained_ckpt', 'experiment', 'n_param', 'n_epoch', 'ade', 'fde'])\n",
    "    for msg in msg_split: \n",
    "        metric = re.search(\"Round 0: \\nTest ADE: ([\\d\\.]+) \\nTest FDE: ([\\d\\.]+)\", msg)\n",
    "        n_epoch = re.search(\"Early stop at epoch ([\\d]+)\", msg)\n",
    "        df = pd.concat([df, pd.DataFrame({\n",
    "            'seed': re.search(\"'seed': ([\\d+]),\", msg).group(1),\n",
    "            'pretrained_ckpt': re.search(\"'pretrained_ckpt': '(.*?)',\", msg).group(1).split('/')[1],\n",
    "            'experiment': re.search(\"Experiment (.*?) has started\", msg).group(1),\n",
    "            'n_param': re.search(\"The number of trainable parameters: ([\\d]+)\", msg).group(1),\n",
    "            'n_epoch': n_epoch.group(1) if n_epoch is not None else 99,\n",
    "            'ade': metric.group(1), \n",
    "            'fde': metric.group(2)}, index=[0])], ignore_index=True)\n",
    "    df.seed = df.seed.astype(int)\n",
    "    df.n_param = df.n_param.astype(int)\n",
    "    df.n_epoch = df.n_epoch.astype(int)\n",
    "    df.ade = df.ade.astype(float)\n",
    "    df.fde = df.fde.astype(float)\n",
    "    df['train_net'] = df['experiment'].apply(lambda x: get_train_net(x))\n",
    "    df['n_train'] = df['experiment'].apply(lambda x: get_n_train(x)).astype(int)\n",
    "    df['adapter_position'] = df['experiment'].apply(lambda x: get_adapter_position(x))\n",
    "    # reorder columns \n",
    "    reordered_cols = ['seed', 'train_net', 'n_train', 'adapter_position', 'n_param', 'n_epoch', 'ade', 'fde', 'experiment', 'pretrained_ckpt']\n",
    "    df = df.reindex(columns=reordered_cols)\n",
    "    return df\n",
    "\n",
    "def extract_test_msg(test_msg):\n",
    "    msg_split = re.split('save_every_n', test_msg)[1:]\n",
    "    df = pd.DataFrame(columns=['seed', 'pretrained_ckpt', 'tuned_ckpt', 'ade', 'fde'])\n",
    "    for msg in msg_split: \n",
    "        metric = re.search(\"Round 0: \\nTest ADE: ([\\d\\.]+) \\nTest FDE: ([\\d\\.]+)\", msg)\n",
    "        df = pd.concat([df, pd.DataFrame({\n",
    "            'seed': re.search(\"'seed': ([\\d+]),\", msg).group(1),\n",
    "            'pretrained_ckpt': re.search(\"'pretrained_ckpt': '(.*?)',\", msg).group(1).split('/')[1],\n",
    "            'tuned_ckpt': re.search(\"'tuned_ckpt': '(.*?)',\", msg).group(1).split('/')[1],\n",
    "            'ade': metric.group(1), \n",
    "            'fde': metric.group(2)}, index=[0])], ignore_index=True)\n",
    "    df.seed = df.seed.astype(int)\n",
    "    df.ade = df.ade.astype(float)\n",
    "    df.fde = df.fde.astype(float)\n",
    "    df['train_net'] = df['tuned_ckpt'].apply(lambda x: get_train_net(x))\n",
    "    df['n_train'] = df['tuned_ckpt'].apply(lambda x: get_n_train(x)).astype(int)\n",
    "    df['adapter_position'] = df['tuned_ckpt'].apply(lambda x: get_adapter_position(x))\n",
    "    # reorder columns \n",
    "    reordered_cols = ['seed', 'train_net', 'n_train', 'adapter_position', 'ade', 'fde', 'tuned_ckpt', 'pretrained_ckpt']\n",
    "    df = df.reindex(columns=reordered_cols)\n",
    "    return df\n",
    "\n",
    "def get_train_net(ckpt_path):\n",
    "    return ckpt_path.split('__')[5]\n",
    "\n",
    "def get_n_train(ckpt_path):\n",
    "    if 'adapter' in ckpt_path:\n",
    "        n_train = ckpt_path.split('__')[7].split('_')[1].split('.')[0]\n",
    "    elif 'weight' in ckpt_path:\n",
    "        n_train = ckpt_path.split('__')[6].split('_')[1]\n",
    "    else:\n",
    "        n_train = ckpt_path.split('__')[6].split('_')[1].split('.')[0]\n",
    "    return n_train\n",
    "\n",
    "def get_adapter_position(ckpt_path):\n",
    "    if 'adapter' in ckpt_path:\n",
    "        return ckpt_path.split('__')[6]\n",
    "    else:\n",
    "        return None "
   ]
  },
  {
   "cell_type": "code",
   "execution_count": 19,
   "metadata": {},
   "outputs": [],
   "source": [
    "def extract_file(file_path, out_dir='../csv/log'):\n",
    "    with open(file_path, 'r') as f:\n",
    "        msgs = f.read()\n",
    "    if 'eval' in file_path:\n",
    "        df = extract_test_msg(msgs)\n",
    "    else: # train\n",
    "        df = extract_train_msg(msgs)\n",
    "    pathlib.Path(out_dir).mkdir(parents=True, exist_ok=True)\n",
    "    file_name = re.search('/([^/]+).out', file_path).group(1)\n",
    "    out_name = f'{out_dir}/{file_name}.csv'\n",
    "    print(out_name)\n",
    "    df.to_csv(out_name, index=False)\n"
   ]
  },
  {
   "cell_type": "code",
   "execution_count": 155,
   "metadata": {},
   "outputs": [
    {
     "name": "stdout",
     "output_type": "stream",
     "text": [
      "../csv/log/DC_TrN_80_encoder_i_eval.csv\n"
     ]
    }
   ],
   "source": [
    "extract_file('../DC_TrN_80_encoder_i_eval.out')"
   ]
  },
  {
   "cell_type": "code",
   "execution_count": 20,
   "metadata": {},
   "outputs": [
    {
     "name": "stdout",
     "output_type": "stream",
     "text": [
      "DC_TrN_80_encoder_i_train\n",
      "../csv/log/DC_TrN_80_encoder_i_train.csv\n"
     ]
    }
   ],
   "source": [
    "extract_file('../logs/DC_TrN_80_encoder_i_train.out')"
   ]
  },
  {
   "cell_type": "code",
   "execution_count": null,
   "metadata": {},
   "outputs": [],
   "source": []
  }
 ],
 "metadata": {
  "interpreter": {
   "hash": "29439c2701c2c99292f4c27f6d5b631364f5a85a3fb1398d59a7605b4a1a4267"
  },
  "kernelspec": {
   "display_name": "Python 3.8.12 ('ynetv')",
   "language": "python",
   "name": "python3"
  },
  "language_info": {
   "codemirror_mode": {
    "name": "ipython",
    "version": 3
   },
   "file_extension": ".py",
   "mimetype": "text/x-python",
   "name": "python",
   "nbconvert_exporter": "python",
   "pygments_lexer": "ipython3",
   "version": "3.8.12"
  },
  "orig_nbformat": 4
 },
 "nbformat": 4,
 "nbformat_minor": 2
}
