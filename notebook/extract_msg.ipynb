{
 "cells": [
  {
   "cell_type": "code",
   "execution_count": 1,
   "metadata": {},
   "outputs": [],
   "source": [
    "import re\n",
    "import pathlib\n",
    "import pandas as pd"
   ]
  },
  {
   "cell_type": "code",
   "execution_count": 8,
   "metadata": {},
   "outputs": [],
   "source": [
    "def extract_train_msg(test_msg):\n",
    "    msg_split = re.split('save_every_n', test_msg)[1:]\n",
    "    df = pd.DataFrame(columns=['seed', 'pretrained_ckpt', 'experiment', 'n_param', 'n_epoch', 'ade', 'fde'])\n",
    "    for msg in msg_split: \n",
    "        metric = re.search(\"Round 0: \\nTest ADE: ([\\d\\.]+) \\nTest FDE: ([\\d\\.]+)\", msg)\n",
    "        n_epoch = re.search(\"Early stop at epoch ([\\d]+)\", msg)\n",
    "        df = pd.concat([df, pd.DataFrame({\n",
    "            'seed': re.search(\"'seed': ([\\d+]),\", msg).group(1),\n",
    "            'pretrained_ckpt': re.search(\"'pretrained_ckpt': '(.*?)',\", msg).group(1).split('/')[1],\n",
    "            'experiment': re.search(\"Experiment (.*?) has started\", msg).group(1),\n",
    "            'n_param': re.search(\"The number of trainable parameters: ([\\d]+)\", msg).group(1),\n",
    "            'n_epoch': n_epoch.group(1) if n_epoch is not None else 99,\n",
    "            'ade': metric.group(1), \n",
    "            'fde': metric.group(2)}, index=[0])], ignore_index=True)\n",
    "    df.seed = df.seed.astype(int)\n",
    "    df.n_param = df.n_param.astype(int)\n",
    "    df.n_epoch = df.n_epoch.astype(int)\n",
    "    df.ade = df.ade.astype(float)\n",
    "    df.fde = df.fde.astype(float)\n",
    "    df['train_net'] = df['experiment'].apply(lambda x: get_train_net(x))\n",
    "    df['n_train'] = df['experiment'].apply(lambda x: get_n_train(x)).astype(int)\n",
    "    df['adapter_position'] = df['experiment'].apply(lambda x: get_adapter_position(x))\n",
    "    # reorder columns \n",
    "    reordered_cols = ['seed', 'train_net', 'n_train', 'adapter_position', 'n_param', 'n_epoch', 'ade', 'fde', 'experiment', 'pretrained_ckpt']\n",
    "    df = df.reindex(columns=reordered_cols)\n",
    "    return df\n",
    "\n",
    "def extract_test_msg(test_msg):\n",
    "    msg_split = re.split('save_every_n', test_msg)[1:]\n",
    "    df = pd.DataFrame(columns=['seed', 'pretrained_ckpt', 'tuned_ckpt', 'ade', 'fde'])\n",
    "    for msg in msg_split: \n",
    "        metric = re.search(\"Round 0: \\nTest ADE: ([\\d\\.]+) \\nTest FDE: ([\\d\\.]+)\", msg)\n",
    "        df = pd.concat([df, pd.DataFrame({\n",
    "            'seed': re.search(\"'seed': ([\\d+]),\", msg).group(1),\n",
    "            'pretrained_ckpt': re.search(\"'pretrained_ckpt': '(.*?)',\", msg).group(1).split('/')[1],\n",
    "            'tuned_ckpt': re.search(\"'tuned_ckpt': '(.*?)',\", msg).group(1).split('/')[1],\n",
    "            'ade': metric.group(1), \n",
    "            'fde': metric.group(2)}, index=[0])], ignore_index=True)\n",
    "    df.seed = df.seed.astype(int)\n",
    "    df.ade = df.ade.astype(float)\n",
    "    df.fde = df.fde.astype(float)\n",
    "    df['train_net'] = df['tuned_ckpt'].apply(lambda x: get_train_net(x))\n",
    "    df['n_train'] = df['tuned_ckpt'].apply(lambda x: get_n_train(x)).astype(int)\n",
    "    df['adapter_position'] = df['tuned_ckpt'].apply(lambda x: get_adapter_position(x))\n",
    "    # reorder columns \n",
    "    reordered_cols = ['seed', 'train_net', 'n_train', 'adapter_position', 'ade', 'fde', 'tuned_ckpt', 'pretrained_ckpt']\n",
    "    df = df.reindex(columns=reordered_cols)\n",
    "    return df\n",
    "\n",
    "def get_train_net(ckpt_path):\n",
    "    return ckpt_path.split('__')[5]\n",
    "\n",
    "def get_n_train(ckpt_path):\n",
    "    if 'adapter' in ckpt_path:\n",
    "        n_train = ckpt_path.split('__')[7].split('_')[1].split('.')[0]\n",
    "    elif 'weight' in ckpt_path:\n",
    "        n_train = ckpt_path.split('__')[6].split('_')[1]\n",
    "    else:\n",
    "        n_train = ckpt_path.split('__')[6].split('_')[1].split('.')[0]\n",
    "    return n_train\n",
    "\n",
    "def get_adapter_position(ckpt_path):\n",
    "    if 'adapter' in ckpt_path:\n",
    "        return ckpt_path.split('__')[6]\n",
    "    else:\n",
    "        return None "
   ]
  },
  {
   "cell_type": "code",
   "execution_count": 19,
   "metadata": {},
   "outputs": [],
   "source": [
    "def extract_file(file_path, out_dir='../csv/log'):\n",
    "    with open(file_path, 'r') as f:\n",
    "        msgs = f.read()\n",
    "    if 'eval' in file_path:\n",
    "        df = extract_test_msg(msgs)\n",
    "    else: # train\n",
    "        df = extract_train_msg(msgs)\n",
    "    pathlib.Path(out_dir).mkdir(parents=True, exist_ok=True)\n",
    "    file_name = re.search('/([^/]+).out', file_path).group(1)\n",
    "    out_name = f'{out_dir}/{file_name}.csv'\n",
    "    print(out_name)\n",
    "    df.to_csv(out_name, index=False)\n"
   ]
  },
  {
   "cell_type": "code",
   "execution_count": 155,
   "metadata": {},
   "outputs": [
    {
     "name": "stdout",
     "output_type": "stream",
     "text": [
      "../csv/log/DC_TrN_80_encoder_i_eval.csv\n"
     ]
    }
   ],
   "source": [
    "extract_file('../DC_TrN_80_encoder_i_eval.out')"
   ]
  },
  {
   "cell_type": "code",
   "execution_count": 20,
   "metadata": {},
   "outputs": [
    {
     "name": "stdout",
     "output_type": "stream",
     "text": [
      "DC_TrN_80_encoder_i_train\n",
      "../csv/log/DC_TrN_80_encoder_i_train.csv\n"
     ]
    }
   ],
   "source": [
    "extract_file('../logs/DC_TrN_80_encoder_i_train.out')"
   ]
  },
  {
   "cell_type": "code",
   "execution_count": null,
   "metadata": {},
   "outputs": [],
   "source": []
  },
  {
   "cell_type": "code",
   "execution_count": null,
   "metadata": {},
   "outputs": [],
   "source": []
  },
  {
   "cell_type": "markdown",
   "metadata": {},
   "source": [
    "## Rename ckpts"
   ]
  },
  {
   "cell_type": "code",
   "execution_count": 1,
   "metadata": {},
   "outputs": [],
   "source": [
    "import os "
   ]
  },
  {
   "cell_type": "code",
   "execution_count": 8,
   "metadata": {},
   "outputs": [
    {
     "name": "stdout",
     "output_type": "stream",
     "text": [
      "../ckpts/Seed_1__Tr_Biker__Val_Biker__ValRatio_0.1__filter_agent_type_deathCircle_0__adapter_parallel__0__TrN_10__AUG.pt ../ckpts/Seed_1__Tr_Biker__Val_Biker__ValRatio_0.1__filter_agent_type_deathCircle_0__parallel__Pos_0__TrN_10__AUG__lr_0.00005.pt\n"
     ]
    }
   ],
   "source": [
    "old_name = '../ckpts/Seed_1__Tr_Biker__Val_Biker__ValRatio_0.1__filter_agent_type_deathCircle_0__adapter_parallel__0__TrN_10__AUG.pt'\n",
    "new_name = old_name\n",
    "new_name = new_name.replace('adapter_', '')\n",
    "new_name = new_name.replace('.pt', '__lr_0.00005.pt')\n",
    "name_split = new_name.split('__')\n",
    "name_split[6] = 'Pos_' + name_split[6]\n",
    "new_name = '__'.join(name_split)\n",
    "print(old_name, new_name)"
   ]
  },
  {
   "cell_type": "code",
   "execution_count": 10,
   "metadata": {},
   "outputs": [],
   "source": [
    "os.rename(old_name, new_name)"
   ]
  },
  {
   "cell_type": "markdown",
   "metadata": {},
   "source": []
  },
  {
   "cell_type": "code",
   "execution_count": 18,
   "metadata": {},
   "outputs": [
    {
     "name": "stdout",
     "output_type": "stream",
     "text": [
      "Seed_1__Tr_Biker__Val_Biker__ValRatio_0.1__filter_agent_type_deathCircle_0__encoder_0-2__TrN_80.pt Seed_1__Tr_Biker__Val_Biker__ValRatio_0.1__filter_agent_type_deathCircle_0__encoder__Pos_0_1_2__TrN_80.pt\n"
     ]
    }
   ],
   "source": [
    "old_name = 'Seed_1__Tr_Biker__Val_Biker__ValRatio_0.1__filter_agent_type_deathCircle_0__encoder_0-2__TrN_80.pt'\n",
    "encoder_dict={\n",
    "    'all_FT': 'all', 'encoder_0': 'encoder__Pos_0', \n",
    "    'encoder_1': 'encoder__Pos_1', 'encoder_2': 'encoder__Pos_2', \n",
    "    'encoder_3': 'encoder__Pos_3', 'encoder_4': 'encoder__Pos_4',\n",
    "    'encoder_0-1': 'encoder__Pos_0_1', 'encoder_0-2': 'encoder__Pos_0_1_2',\n",
    "    'encoder_0-3': 'encoder__Pos_0_1_2_3', 'encoder_0-4': 'encoder__Pos_0_1_2_3_4',\n",
    "    'encoder_1-2': 'encoder__Pos_1_2', 'encoder_1-3': 'encoder__Pos_1_2_3',\n",
    "    'encoder_1-4': 'encoder__Pos_1_2_3_4', 'encoder_2-3': 'encoder__Pos_2_3',\n",
    "    'encoder_2-4': 'encoder__Pos_2_3_4', 'encoder_3-4': 'encoder__Pos_3_4'}\n",
    "new_name = old_name\n",
    "encoder_i = new_name.split('__')[5]\n",
    "new_name = new_name.replace(encoder_i, encoder_dict[encoder_i])\n",
    "print(old_name, new_name)\n"
   ]
  },
  {
   "cell_type": "code",
   "execution_count": 21,
   "metadata": {},
   "outputs": [
    {
     "name": "stdout",
     "output_type": "stream",
     "text": [
      "Seed_1__Tr_Biker__Val_Biker__ValRatio_0.1__filter_agent_type_deathCircle_0__serial__Pos_1_2_3_4__TrN_40__AUG__lr_0.00005.pt Seed_1__Tr_Biker__Val_Biker__ValRatio_0.1__filter_agent_type_deathCircle_0__serial__Pos_1_2_3_4__TrN_40__lr_0.00005__AUG.pt\n"
     ]
    }
   ],
   "source": [
    "old_name='Seed_1__Tr_Biker__Val_Biker__ValRatio_0.1__filter_agent_type_deathCircle_0__serial__Pos_1_2_3_4__TrN_40__AUG__lr_0.00005.pt'\n",
    "left=old_name.split('__AUG__')[0]\n",
    "right=old_name.split('__AUG__')[1].replace('.pt', '')\n",
    "new_name=f'{left}__{right}__AUG.pt'\n",
    "print(old_name, new_name)"
   ]
  },
  {
   "cell_type": "code",
   "execution_count": 23,
   "metadata": {},
   "outputs": [
    {
     "name": "stdout",
     "output_type": "stream",
     "text": [
      "Seed_1__Tr_Biker__Val_Biker__ValRatio_0.1__filter_agent_type_deathCircle_0__serial__Pos_1_2_3_4__TrN_40__lr_5e-05.pt Seed_1__Tr_Biker__Val_Biker__ValRatio_0.1__filter_agent_type_deathCircle_0__serial__Pos_1_2_3_4__TrN_40__lr_0.00005.pt\n"
     ]
    }
   ],
   "source": [
    "old_name='Seed_1__Tr_Biker__Val_Biker__ValRatio_0.1__filter_agent_type_deathCircle_0__serial__Pos_1_2_3_4__TrN_40__lr_5e-05.pt'\n",
    "new_name=old_name.replace('5e-05', '0.00005')\n",
    "print(old_name, new_name)"
   ]
  },
  {
   "cell_type": "code",
   "execution_count": 24,
   "metadata": {},
   "outputs": [],
   "source": [
    "for old_name in os.listdir('../ckpts/'):\n",
    "    if '5e-05' in old_name:\n",
    "        left=old_name.split('__AUG__')[0]\n",
    "        right=old_name.split('__AUG__')[1].replace('.pt', '')\n",
    "        new_name=f'{left}__{right}__AUG.pt'\n",
    "        os.rename(f'../ckpts/{old_name}', f'../ckpts/{new_name}')"
   ]
  },
  {
   "cell_type": "code",
   "execution_count": 2,
   "metadata": {},
   "outputs": [],
   "source": [
    "for old_name in os.listdir('../ckpts/'):\n",
    "    if 'parallelLayer' in old_name:\n",
    "        new_name=old_name.replace('parallelLayer', 'parallelBlock')\n",
    "        os.rename(f'../ckpts/{old_name}', f'../ckpts/{new_name}')"
   ]
  },
  {
   "cell_type": "code",
   "execution_count": null,
   "metadata": {},
   "outputs": [],
   "source": []
  }
 ],
 "metadata": {
  "interpreter": {
   "hash": "29439c2701c2c99292f4c27f6d5b631364f5a85a3fb1398d59a7605b4a1a4267"
  },
  "kernelspec": {
   "display_name": "Python 3.8.12 ('ynetv')",
   "language": "python",
   "name": "python3"
  },
  "language_info": {
   "codemirror_mode": {
    "name": "ipython",
    "version": 3
   },
   "file_extension": ".py",
   "mimetype": "text/x-python",
   "name": "python",
   "nbconvert_exporter": "python",
   "pygments_lexer": "ipython3",
   "version": "3.8.13"
  },
  "orig_nbformat": 4
 },
 "nbformat": 4,
 "nbformat_minor": 2
}
