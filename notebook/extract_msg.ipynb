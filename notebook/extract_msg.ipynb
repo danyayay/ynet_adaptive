{
 "cells": [
  {
   "cell_type": "code",
   "execution_count": 3,
   "metadata": {},
   "outputs": [],
   "source": [
    "import re\n",
    "import pathlib\n",
    "import pandas as pd"
   ]
  },
  {
   "cell_type": "code",
   "execution_count": 8,
   "metadata": {},
   "outputs": [],
   "source": [
    "def extract_train_msg(test_msg):\n",
    "    msg_split = re.split('save_every_n', test_msg)[1:]\n",
    "    df = pd.DataFrame(columns=['seed', 'pretrained_ckpt', 'experiment', 'n_param', 'n_epoch', 'ade', 'fde'])\n",
    "    for msg in msg_split: \n",
    "        metric = re.search(\"Round 0: \\nTest ADE: ([\\d\\.]+) \\nTest FDE: ([\\d\\.]+)\", msg)\n",
    "        n_epoch = re.search(\"Early stop at epoch ([\\d]+)\", msg)\n",
    "        df = pd.concat([df, pd.DataFrame({\n",
    "            'seed': re.search(\"'seed': ([\\d+]),\", msg).group(1),\n",
    "            'pretrained_ckpt': re.search(\"'pretrained_ckpt': '(.*?)',\", msg).group(1).split('/')[1],\n",
    "            'experiment': re.search(\"Experiment (.*?) has started\", msg).group(1),\n",
    "            'n_param': re.search(\"The number of trainable parameters: ([\\d]+)\", msg).group(1),\n",
    "            'n_epoch': n_epoch.group(1) if n_epoch is not None else 99,\n",
    "            'ade': metric.group(1), \n",
    "            'fde': metric.group(2)}, index=[0])], ignore_index=True)\n",
    "    df.seed = df.seed.astype(int)\n",
    "    df.n_param = df.n_param.astype(int)\n",
    "    df.n_epoch = df.n_epoch.astype(int)\n",
    "    df.ade = df.ade.astype(float)\n",
    "    df.fde = df.fde.astype(float)\n",
    "    df['train_net'] = df['experiment'].apply(lambda x: get_train_net(x))\n",
    "    df['n_train'] = df['experiment'].apply(lambda x: get_n_train(x)).astype(int)\n",
    "    df['adapter_position'] = df['experiment'].apply(lambda x: get_adapter_position(x))\n",
    "    # reorder columns \n",
    "    reordered_cols = ['seed', 'train_net', 'n_train', 'adapter_position', 'n_param', 'n_epoch', 'ade', 'fde', 'experiment', 'pretrained_ckpt']\n",
    "    df = df.reindex(columns=reordered_cols)\n",
    "    return df\n",
    "\n",
    "def extract_test_msg(test_msg):\n",
    "    msg_split = re.split('save_every_n', test_msg)[1:]\n",
    "    df = pd.DataFrame(columns=['seed', 'pretrained_ckpt', 'tuned_ckpt', 'ade', 'fde'])\n",
    "    for msg in msg_split: \n",
    "        metric = re.search(\"Round 0: \\nTest ADE: ([\\d\\.]+) \\nTest FDE: ([\\d\\.]+)\", msg)\n",
    "        df = pd.concat([df, pd.DataFrame({\n",
    "            'seed': re.search(\"'seed': ([\\d+]),\", msg).group(1),\n",
    "            'pretrained_ckpt': re.search(\"'pretrained_ckpt': '(.*?)',\", msg).group(1).split('/')[1],\n",
    "            'tuned_ckpt': re.search(\"'tuned_ckpt': '(.*?)',\", msg).group(1).split('/')[1],\n",
    "            'ade': metric.group(1), \n",
    "            'fde': metric.group(2)}, index=[0])], ignore_index=True)\n",
    "    df.seed = df.seed.astype(int)\n",
    "    df.ade = df.ade.astype(float)\n",
    "    df.fde = df.fde.astype(float)\n",
    "    df['train_net'] = df['tuned_ckpt'].apply(lambda x: get_train_net(x))\n",
    "    df['n_train'] = df['tuned_ckpt'].apply(lambda x: get_n_train(x)).astype(int)\n",
    "    df['adapter_position'] = df['tuned_ckpt'].apply(lambda x: get_adapter_position(x))\n",
    "    # reorder columns \n",
    "    reordered_cols = ['seed', 'train_net', 'n_train', 'adapter_position', 'ade', 'fde', 'tuned_ckpt', 'pretrained_ckpt']\n",
    "    df = df.reindex(columns=reordered_cols)\n",
    "    return df\n",
    "\n",
    "def get_train_net(ckpt_path):\n",
    "    return ckpt_path.split('__')[5]\n",
    "\n",
    "def get_n_train(ckpt_path):\n",
    "    if 'adapter' in ckpt_path:\n",
    "        n_train = ckpt_path.split('__')[7].split('_')[1].split('.')[0]\n",
    "    elif 'weight' in ckpt_path:\n",
    "        n_train = ckpt_path.split('__')[6].split('_')[1]\n",
    "    else:\n",
    "        n_train = ckpt_path.split('__')[6].split('_')[1].split('.')[0]\n",
    "    return n_train\n",
    "\n",
    "def get_adapter_position(ckpt_path):\n",
    "    if 'adapter' in ckpt_path:\n",
    "        return ckpt_path.split('__')[6]\n",
    "    else:\n",
    "        return None "
   ]
  },
  {
   "cell_type": "code",
   "execution_count": 19,
   "metadata": {},
   "outputs": [],
   "source": [
    "def extract_file(file_path, out_dir='../csv/log'):\n",
    "    with open(file_path, 'r') as f:\n",
    "        msgs = f.read()\n",
    "    if 'eval' in file_path:\n",
    "        df = extract_test_msg(msgs)\n",
    "    else: # train\n",
    "        df = extract_train_msg(msgs)\n",
    "    pathlib.Path(out_dir).mkdir(parents=True, exist_ok=True)\n",
    "    file_name = re.search('/([^/]+).out', file_path).group(1)\n",
    "    out_name = f'{out_dir}/{file_name}.csv'\n",
    "    print(out_name)\n",
    "    df.to_csv(out_name, index=False)\n"
   ]
  },
  {
   "cell_type": "code",
   "execution_count": 155,
   "metadata": {},
   "outputs": [
    {
     "name": "stdout",
     "output_type": "stream",
     "text": [
      "../csv/log/DC_TrN_80_encoder_i_eval.csv\n"
     ]
    }
   ],
   "source": [
    "extract_file('../DC_TrN_80_encoder_i_eval.out')"
   ]
  },
  {
   "cell_type": "code",
   "execution_count": 20,
   "metadata": {},
   "outputs": [
    {
     "name": "stdout",
     "output_type": "stream",
     "text": [
      "DC_TrN_80_encoder_i_train\n",
      "../csv/log/DC_TrN_80_encoder_i_train.csv\n"
     ]
    }
   ],
   "source": [
    "extract_file('../logs/DC_TrN_80_encoder_i_train.out')"
   ]
  },
  {
   "cell_type": "code",
   "execution_count": 41,
   "metadata": {},
   "outputs": [],
   "source": [
    "imp_msg = '''\n",
    "{'save_every_n': 10, 'n_early_stop': 10, 'resize_factor': 0.25, 'viz_epoch': 10, 'encoder_channels': [32, 32, 64, 64, 64], 'decoder_channels': [64, 64, 64, 32, 32], 'waypoints': [11], 'temperature': 1.0, 'n_semantic_classes': 6, 'loss_scale': 1000, 'kernlen': 31, 'nsig': 4, 'use_features_only': False, 'e_unfreeze': 150, 'use_TTST': False, 'rel_threshold': 0.01, 'use_CWS': False, 'CWS_params': 'None', 'obs_len': 8, 'pred_len': 12, 'n_goal': 20, 'n_traj': 1, 'use_raw_data': True, 'data_dir': '/data/dli-data/', 'dataset_name': 'sdd', 'out_csv_dir': 'csv', 'segmentation_model_fp': '/data/dli-data/sdd/segmentation_model.pth', 'dataset_path': 'filter/agent_type/deathCircle_0/', 'val_files': ['Biker.pkl'], 'val_ratio': 0.1, 'n_leftouts': [500], 'share_val_test': True, 'ckpts': None, 'ckpts_name': None, 'pretrained_ckpt': 'ckpts/Seed_1__Tr_Pedestrian__Val_Pedestrian__ValRatio_0.1__filter_agent_type__train.pt', 'tuned_ckpt': None, 'tuned_ckpts': ['ckpts/DC0__lora/Seed_1__Tr_Biker__Val_Biker__ValRatio_0.1__filter_agent_type_deathCircle_0__lora_1__Pos_0_1_2_3_4__TrN_20__lr_0.0005.pt'], 'position': [], 'ynet_bias': False, 'train_net': 'all', 'seed': 1, 'batch_size': 8, 'gpu': None, 'n_round': 1, 'config_filename': 'sdd_raw_eval.yaml', 'given_meta_ids': None, 'result_path': None, 'result_name': None, 'result_limited': None, 'random_n': None}\n",
    "Split ['Biker.pkl'] given val_ratio=0, n_leftout=[500]\n",
    "df_test: (10000, 10); #=500.0\n",
    "Focusing on meta_ids= [5152 5175 5176 5177 5178 5179 5180 5181 5182 5183 5184 5185 5186 5187\n",
    " 5188 5189 5190 5191 5194 5195 5196 5197 5198 5199 5200 5201 5202 5203\n",
    " 5204 5205 5214 5215 5220 5229 5230 5231 5232 5233 5234 5235 5236 5237\n",
    " 5238 5240 5241 5242 5243 5246 5248 5249 5250 5251 5252 5253 5256 5257\n",
    " 5258 5259 5260 5261 5262 5263 5264 5265 5266 5267 5268 5269 5285 5286\n",
    " 5287 5288 5299 5300 5301 5302 5303 5304 5305 5306 5307 5315 5316 5317\n",
    " 5318 5323 5331 5332 5333 5334 5335 5337 5341 5342 5355 5356 5357 5358\n",
    " 5359 5360 5361 5362 5375 5376 5377 5378 5379 5384 5385 5386 5387 5388\n",
    " 5389 5390 5399 5409 5436 5444 5445 5446 5447 5448 5449 5450 5451 5452\n",
    " 5457 5458 5459 5460 5461 5462 5463 5464 5465 5466 5467 5468 5469 5470\n",
    " 5471 5472 5473 5474 5475 5476 5477 5478 5507 5508 5509 5510 5511 5512\n",
    " 5513 5605 5606 5607 5608 5609 5610 5611 5612 5613 5614 5615 5616 5617\n",
    " 5621 5622 5623 5624 5634 5635 5636 5637 5638 5639 5640 5641 5642 5643\n",
    " 5644 5645 5646 5647 5648 5649 5650 5651 5652 5653 5654 5655 5656 5657\n",
    " 5658 5659 5660 5661 5662 5663 5664 5665 5666 5667 5668 5669 5670 5671\n",
    " 5672 5673 5674 5675 5676 5677 5678 5679 5680 5686 5687 5688 5689 5690\n",
    " 5691 5692 5693 5694 5695 5696 5697 5698 5699 5710 5711 5714 5715 5718\n",
    " 5719 5720 5721 5722 5725 5726 5727 5729 5730 5731 5732 5738 5748 5749\n",
    " 5750 5751 5752 5753 5754 5755 5756 5757 5758 5760 5761 5762 5763 5766\n",
    " 5767 5768 5769 5770 5771 5772 5774 5775 5776 5777 5778 5781 5793 5794\n",
    " 5797 5798 5799 5800 5801 5802 5803 5804 5805 5806 5807 5808 5809 5810\n",
    " 5811 5812 5813 5814 5815 5816 5817 5818 5819 5820 5821 5838 5839 5840\n",
    " 5841 5842 5843 5844 5850 5851 5852 5853 5854 5855 5856 5857 5858 5859\n",
    " 5860 5876 5877 5878 5879 5880 5881 5882 5883 5884 5885 5886 5887 5888\n",
    " 5889 5890 5891 5905 5906 5931 5932 5933 5934 5935 5945 5946 5947 5948\n",
    " 5949 5950 5951 5952 5953 5954 5955 5956 5957 5958 5959 5964 5965 5966\n",
    " 5967 5968 5969 5970 5971 5972 5976 5977 5978 5979 5980 5981 5982 5991\n",
    " 5992 6053 6054 6055 6060 6061 6062 6063 6066 6067 6068 6069 6070 6075\n",
    " 6076 6077 6084 6085 6086 6087 6097 6098 6099 6100 6101 6104 6105 6113\n",
    " 6114 6115 6116 6117 6118 6133 6134 6135 6153 6154 6155 6160 6161 6162\n",
    " 6163 6164 6165 6166 6167 6168 6173 6174 6186 6187 6189 6190 6191 6192\n",
    " 6205 6206 6207 6208 6209 6210 6211 6212 6213 6214 6222 6223 6227 6228\n",
    " 6229 6230 6231 6232 6233 6234 6235 6236 6240 6241 6249 6251 6252 6259\n",
    " 6260 6261 6268 6269 6270 6279 6280 6281 6282 6283 6288 6301 6302 6303\n",
    " 6304 6305 6306 6307 6308 6309 6310 6311 6312 6313 6314 6315 6316 6317\n",
    " 6318 6319 6320 6321 6322 6323 6324 6325 6326 6327]\n",
    "df_test_limited: (10000, 10); #=500.0\n",
    "Working on cuda\n",
    "Loaded segmentation model to GPU\n",
    "Loaded ynet model to GPU\n",
    "Replacing encoder.stages.0.0.lora_A\n",
    "Working on cuda\n",
    "Loaded segmentation model to GPU\n",
    "Loaded ynet model to GPU\n",
    "No data and images augmentation\n",
    "TTST setting: False\n",
    "Start testing\n",
    "Round 0: \n",
    "Test ADE: 34.598594665527344 \n",
    "Test FDE: 59.70595932006836\n",
    "\n",
    "Average performance (by 1): \n",
    "Test ADE: 34.598594665527344 \n",
    "Test FDE: 59.70595932006836\n",
    "Replacing encoder.stages.1.1.lora_A\n",
    "Working on cuda\n",
    "Loaded segmentation model to GPU\n",
    "Loaded ynet model to GPU\n",
    "No data and images augmentation\n",
    "TTST setting: False\n",
    "Start testing\n",
    "Round 0: \n",
    "Test ADE: 31.059904098510742 \n",
    "Test FDE: 53.201873779296875\n",
    "\n",
    "Average performance (by 1): \n",
    "Test ADE: 31.059904098510742 \n",
    "Test FDE: 53.201873779296875\n",
    "Replacing encoder.stages.1.3.lora_A\n",
    "Working on cuda\n",
    "Loaded segmentation model to GPU\n",
    "Loaded ynet model to GPU\n",
    "No data and images augmentation\n",
    "TTST setting: False\n",
    "Start testing\n",
    "Round 0: \n",
    "Test ADE: 31.024852752685547 \n",
    "Test FDE: 53.47703552246094\n",
    "\n",
    "Average performance (by 1): \n",
    "Test ADE: 31.024852752685547 \n",
    "Test FDE: 53.47703552246094'''"
   ]
  },
  {
   "cell_type": "code",
   "execution_count": 46,
   "metadata": {},
   "outputs": [
    {
     "name": "stdout",
     "output_type": "stream",
     "text": [
      "[('34.598594665527344', '59.70595932006836'), ('31.059904098510742', '53.201873779296875'), ('31.024852752685547', '53.47703552246094')]\n"
     ]
    }
   ],
   "source": [
    "msg_split = re.split('save_every_n', imp_msg)[1:]\n",
    "df = pd.DataFrame(columns=['seed', 'layer', 'ade', 'fde', 'tuned_ckpt', 'pretrained_ckpt'])\n",
    "for msg in msg_split: \n",
    "    seed = re.search(\"'seed': ([\\d+]),\", msg)\n",
    "    pretrained_ckpt = re.search(\"'pretrained_ckpt': '(.*?)',\", msg)\n",
    "    tuned_ckpt = re.search(\"'tuned_ckpts': \\['(.*?)'\\],\", msg)\n",
    "    layers = re.findall(\"Replacing (.*?)\\n\", msg)\n",
    "    metrics = re.findall(\"Round 0: \\nTest ADE: ([\\d\\.]+) \\nTest FDE: ([\\d\\.]+)\", msg)\n",
    "    print(metrics)\n",
    "    # temp\n",
    "    df_temp = pd.DataFrame()\n",
    "    df_temp['layer'] = layers \n",
    "    df_temp['metric'] = metrics\n",
    "    df_temp['ade'] = df_temp.metric.apply(lambda x: x[0])\n",
    "    df_temp['fde'] = df_temp.metric.apply(lambda x: x[1])\n",
    "    df_temp['seed'] = seed.group(1) if seed is not None else None \n",
    "    df_temp['tuned_ckpt'] = tuned_ckpt.group(1) if tuned_ckpt is not None else None \n",
    "    df_temp['pretrained_ckpt'] = pretrained_ckpt.group(1) if pretrained_ckpt is not None else None \n",
    "    df = pd.concat([df, df_temp], axis=0, ignore_index=True)\n",
    "    df.drop(columns=['metric'], inplace=True)"
   ]
  },
  {
   "cell_type": "code",
   "execution_count": 47,
   "metadata": {},
   "outputs": [
    {
     "data": {
      "text/html": [
       "<div>\n",
       "<style scoped>\n",
       "    .dataframe tbody tr th:only-of-type {\n",
       "        vertical-align: middle;\n",
       "    }\n",
       "\n",
       "    .dataframe tbody tr th {\n",
       "        vertical-align: top;\n",
       "    }\n",
       "\n",
       "    .dataframe thead th {\n",
       "        text-align: right;\n",
       "    }\n",
       "</style>\n",
       "<table border=\"1\" class=\"dataframe\">\n",
       "  <thead>\n",
       "    <tr style=\"text-align: right;\">\n",
       "      <th></th>\n",
       "      <th>seed</th>\n",
       "      <th>layer</th>\n",
       "      <th>ade</th>\n",
       "      <th>fde</th>\n",
       "      <th>tuned_ckpt</th>\n",
       "      <th>pretrained_ckpt</th>\n",
       "    </tr>\n",
       "  </thead>\n",
       "  <tbody>\n",
       "    <tr>\n",
       "      <th>0</th>\n",
       "      <td>1</td>\n",
       "      <td>encoder.stages.0.0.lora_A</td>\n",
       "      <td>34.598594665527344</td>\n",
       "      <td>59.70595932006836</td>\n",
       "      <td>ckpts/DC0__lora/Seed_1__Tr_Biker__Val_Biker__V...</td>\n",
       "      <td>ckpts/Seed_1__Tr_Pedestrian__Val_Pedestrian__V...</td>\n",
       "    </tr>\n",
       "    <tr>\n",
       "      <th>1</th>\n",
       "      <td>1</td>\n",
       "      <td>encoder.stages.1.1.lora_A</td>\n",
       "      <td>31.059904098510742</td>\n",
       "      <td>53.201873779296875</td>\n",
       "      <td>ckpts/DC0__lora/Seed_1__Tr_Biker__Val_Biker__V...</td>\n",
       "      <td>ckpts/Seed_1__Tr_Pedestrian__Val_Pedestrian__V...</td>\n",
       "    </tr>\n",
       "    <tr>\n",
       "      <th>2</th>\n",
       "      <td>1</td>\n",
       "      <td>encoder.stages.1.3.lora_A</td>\n",
       "      <td>31.024852752685547</td>\n",
       "      <td>53.47703552246094</td>\n",
       "      <td>ckpts/DC0__lora/Seed_1__Tr_Biker__Val_Biker__V...</td>\n",
       "      <td>ckpts/Seed_1__Tr_Pedestrian__Val_Pedestrian__V...</td>\n",
       "    </tr>\n",
       "  </tbody>\n",
       "</table>\n",
       "</div>"
      ],
      "text/plain": [
       "  seed                      layer                 ade                 fde  \\\n",
       "0    1  encoder.stages.0.0.lora_A  34.598594665527344   59.70595932006836   \n",
       "1    1  encoder.stages.1.1.lora_A  31.059904098510742  53.201873779296875   \n",
       "2    1  encoder.stages.1.3.lora_A  31.024852752685547   53.47703552246094   \n",
       "\n",
       "                                          tuned_ckpt  \\\n",
       "0  ckpts/DC0__lora/Seed_1__Tr_Biker__Val_Biker__V...   \n",
       "1  ckpts/DC0__lora/Seed_1__Tr_Biker__Val_Biker__V...   \n",
       "2  ckpts/DC0__lora/Seed_1__Tr_Biker__Val_Biker__V...   \n",
       "\n",
       "                                     pretrained_ckpt  \n",
       "0  ckpts/Seed_1__Tr_Pedestrian__Val_Pedestrian__V...  \n",
       "1  ckpts/Seed_1__Tr_Pedestrian__Val_Pedestrian__V...  \n",
       "2  ckpts/Seed_1__Tr_Pedestrian__Val_Pedestrian__V...  "
      ]
     },
     "execution_count": 47,
     "metadata": {},
     "output_type": "execute_result"
    }
   ],
   "source": [
    "df"
   ]
  },
  {
   "cell_type": "code",
   "execution_count": 35,
   "metadata": {},
   "outputs": [],
   "source": [
    "df = pd.DataFrame()\n",
    "df['ade'] = metrics"
   ]
  },
  {
   "cell_type": "code",
   "execution_count": 36,
   "metadata": {},
   "outputs": [
    {
     "data": {
      "text/html": [
       "<div>\n",
       "<style scoped>\n",
       "    .dataframe tbody tr th:only-of-type {\n",
       "        vertical-align: middle;\n",
       "    }\n",
       "\n",
       "    .dataframe tbody tr th {\n",
       "        vertical-align: top;\n",
       "    }\n",
       "\n",
       "    .dataframe thead th {\n",
       "        text-align: right;\n",
       "    }\n",
       "</style>\n",
       "<table border=\"1\" class=\"dataframe\">\n",
       "  <thead>\n",
       "    <tr style=\"text-align: right;\">\n",
       "      <th></th>\n",
       "      <th>ade</th>\n",
       "    </tr>\n",
       "  </thead>\n",
       "  <tbody>\n",
       "    <tr>\n",
       "      <th>0</th>\n",
       "      <td>34.598594665527344</td>\n",
       "    </tr>\n",
       "    <tr>\n",
       "      <th>1</th>\n",
       "      <td>59.70595932006836</td>\n",
       "    </tr>\n",
       "  </tbody>\n",
       "</table>\n",
       "</div>"
      ],
      "text/plain": [
       "                  ade\n",
       "0  34.598594665527344\n",
       "1   59.70595932006836"
      ]
     },
     "execution_count": 36,
     "metadata": {},
     "output_type": "execute_result"
    }
   ],
   "source": [
    "df.apply(lambda x: x[0])"
   ]
  },
  {
   "cell_type": "markdown",
   "metadata": {},
   "source": [
    "## Rename ckpts"
   ]
  },
  {
   "cell_type": "code",
   "execution_count": 1,
   "metadata": {},
   "outputs": [],
   "source": [
    "import os "
   ]
  },
  {
   "cell_type": "code",
   "execution_count": null,
   "metadata": {},
   "outputs": [],
   "source": []
  },
  {
   "cell_type": "code",
   "execution_count": 8,
   "metadata": {},
   "outputs": [
    {
     "name": "stdout",
     "output_type": "stream",
     "text": [
      "../ckpts/Seed_1__Tr_Biker__Val_Biker__ValRatio_0.1__filter_agent_type_deathCircle_0__adapter_parallel__0__TrN_10__AUG.pt ../ckpts/Seed_1__Tr_Biker__Val_Biker__ValRatio_0.1__filter_agent_type_deathCircle_0__parallel__Pos_0__TrN_10__AUG__lr_0.00005.pt\n"
     ]
    }
   ],
   "source": [
    "old_name = '../ckpts/Seed_1__Tr_Biker__Val_Biker__ValRatio_0.1__filter_agent_type_deathCircle_0__adapter_parallel__0__TrN_10__AUG.pt'\n",
    "new_name = old_name\n",
    "new_name = new_name.replace('adapter_', '')\n",
    "new_name = new_name.replace('.pt', '__lr_0.00005.pt')\n",
    "name_split = new_name.split('__')\n",
    "name_split[6] = 'Pos_' + name_split[6]\n",
    "new_name = '__'.join(name_split)\n",
    "print(old_name, new_name)"
   ]
  },
  {
   "cell_type": "code",
   "execution_count": 10,
   "metadata": {},
   "outputs": [],
   "source": [
    "os.rename(old_name, new_name)"
   ]
  },
  {
   "cell_type": "markdown",
   "metadata": {},
   "source": []
  },
  {
   "cell_type": "code",
   "execution_count": 18,
   "metadata": {},
   "outputs": [
    {
     "name": "stdout",
     "output_type": "stream",
     "text": [
      "Seed_1__Tr_Biker__Val_Biker__ValRatio_0.1__filter_agent_type_deathCircle_0__encoder_0-2__TrN_80.pt Seed_1__Tr_Biker__Val_Biker__ValRatio_0.1__filter_agent_type_deathCircle_0__encoder__Pos_0_1_2__TrN_80.pt\n"
     ]
    }
   ],
   "source": [
    "old_name = 'Seed_1__Tr_Biker__Val_Biker__ValRatio_0.1__filter_agent_type_deathCircle_0__encoder_0-2__TrN_80.pt'\n",
    "encoder_dict={\n",
    "    'all_FT': 'all', 'encoder_0': 'encoder__Pos_0', \n",
    "    'encoder_1': 'encoder__Pos_1', 'encoder_2': 'encoder__Pos_2', \n",
    "    'encoder_3': 'encoder__Pos_3', 'encoder_4': 'encoder__Pos_4',\n",
    "    'encoder_0-1': 'encoder__Pos_0_1', 'encoder_0-2': 'encoder__Pos_0_1_2',\n",
    "    'encoder_0-3': 'encoder__Pos_0_1_2_3', 'encoder_0-4': 'encoder__Pos_0_1_2_3_4',\n",
    "    'encoder_1-2': 'encoder__Pos_1_2', 'encoder_1-3': 'encoder__Pos_1_2_3',\n",
    "    'encoder_1-4': 'encoder__Pos_1_2_3_4', 'encoder_2-3': 'encoder__Pos_2_3',\n",
    "    'encoder_2-4': 'encoder__Pos_2_3_4', 'encoder_3-4': 'encoder__Pos_3_4'}\n",
    "new_name = old_name\n",
    "encoder_i = new_name.split('__')[5]\n",
    "new_name = new_name.replace(encoder_i, encoder_dict[encoder_i])\n",
    "print(old_name, new_name)\n"
   ]
  },
  {
   "cell_type": "code",
   "execution_count": 21,
   "metadata": {},
   "outputs": [
    {
     "name": "stdout",
     "output_type": "stream",
     "text": [
      "Seed_1__Tr_Biker__Val_Biker__ValRatio_0.1__filter_agent_type_deathCircle_0__serial__Pos_1_2_3_4__TrN_40__AUG__lr_0.00005.pt Seed_1__Tr_Biker__Val_Biker__ValRatio_0.1__filter_agent_type_deathCircle_0__serial__Pos_1_2_3_4__TrN_40__lr_0.00005__AUG.pt\n"
     ]
    }
   ],
   "source": [
    "old_name='Seed_1__Tr_Biker__Val_Biker__ValRatio_0.1__filter_agent_type_deathCircle_0__serial__Pos_1_2_3_4__TrN_40__AUG__lr_0.00005.pt'\n",
    "left=old_name.split('__AUG__')[0]\n",
    "right=old_name.split('__AUG__')[1].replace('.pt', '')\n",
    "new_name=f'{left}__{right}__AUG.pt'\n",
    "print(old_name, new_name)"
   ]
  },
  {
   "cell_type": "code",
   "execution_count": 23,
   "metadata": {},
   "outputs": [
    {
     "name": "stdout",
     "output_type": "stream",
     "text": [
      "Seed_1__Tr_Biker__Val_Biker__ValRatio_0.1__filter_agent_type_deathCircle_0__serial__Pos_1_2_3_4__TrN_40__lr_5e-05.pt Seed_1__Tr_Biker__Val_Biker__ValRatio_0.1__filter_agent_type_deathCircle_0__serial__Pos_1_2_3_4__TrN_40__lr_0.00005.pt\n"
     ]
    }
   ],
   "source": [
    "old_name='Seed_1__Tr_Biker__Val_Biker__ValRatio_0.1__filter_agent_type_deathCircle_0__serial__Pos_1_2_3_4__TrN_40__lr_5e-05.pt'\n",
    "new_name=old_name.replace('5e-05', '0.00005')\n",
    "print(old_name, new_name)"
   ]
  },
  {
   "cell_type": "code",
   "execution_count": null,
   "metadata": {},
   "outputs": [],
   "source": []
  },
  {
   "cell_type": "code",
   "execution_count": 24,
   "metadata": {},
   "outputs": [],
   "source": [
    "for old_name in os.listdir('../ckpts/'):\n",
    "    if '5e-05' in old_name:\n",
    "        left=old_name.split('__AUG__')[0]\n",
    "        right=old_name.split('__AUG__')[1].replace('.pt', '')\n",
    "        new_name=f'{left}__{right}__AUG.pt'\n",
    "        os.rename(f'../ckpts/{old_name}', f'../ckpts/{new_name}')"
   ]
  },
  {
   "cell_type": "code",
   "execution_count": 2,
   "metadata": {},
   "outputs": [],
   "source": [
    "for old_name in os.listdir('../ckpts/'):\n",
    "    if 'parallelLayer' in old_name:\n",
    "        new_name=old_name.replace('parallelLayer', 'parallelBlock')\n",
    "        os.rename(f'../ckpts/{old_name}', f'../ckpts/{new_name}')"
   ]
  },
  {
   "cell_type": "code",
   "execution_count": null,
   "metadata": {},
   "outputs": [],
   "source": [
    "root_dir = '../ckpts/DC0__parallelBlock'\n",
    "for old_name in os.listdir(root_dir):\n",
    "    if '5e-05' in old_name:\n",
    "        new_name=old_name.replace('5e-05', '0.00005')\n",
    "        os.rename(f'{root_dir}/{old_name}', f'{root_dir}/{new_name}')"
   ]
  },
  {
   "cell_type": "code",
   "execution_count": 2,
   "metadata": {},
   "outputs": [],
   "source": [
    "for old_name in os.listdir('../noearly_shuffle/'):\n",
    "    new_name=old_name.replace('___', '__')\n",
    "    os.rename(f'../noearly_shuffle/{old_name}', f'../noearly_shuffle/{new_name}')"
   ]
  },
  {
   "cell_type": "code",
   "execution_count": null,
   "metadata": {},
   "outputs": [],
   "source": []
  }
 ],
 "metadata": {
  "interpreter": {
   "hash": "29439c2701c2c99292f4c27f6d5b631364f5a85a3fb1398d59a7605b4a1a4267"
  },
  "kernelspec": {
   "display_name": "Python 3.8.12 ('ynetv')",
   "language": "python",
   "name": "python3"
  },
  "language_info": {
   "codemirror_mode": {
    "name": "ipython",
    "version": 3
   },
   "file_extension": ".py",
   "mimetype": "text/x-python",
   "name": "python",
   "nbconvert_exporter": "python",
   "pygments_lexer": "ipython3",
   "version": "3.8.13"
  },
  "orig_nbformat": 4
 },
 "nbformat": 4,
 "nbformat_minor": 2
}
